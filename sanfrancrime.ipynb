{
 "cells": [
  {
   "cell_type": "code",
   "execution_count": 1,
   "id": "4126097c",
   "metadata": {
    "_cell_guid": "b1076dfc-b9ad-4769-8c92-a6c4dae69d19",
    "_uuid": "8f2839f25d086af736a60e9eeb907d3b93b6e0e5",
    "execution": {
     "iopub.execute_input": "2022-06-17T05:28:56.990032Z",
     "iopub.status.busy": "2022-06-17T05:28:56.988307Z",
     "iopub.status.idle": "2022-06-17T05:28:58.055910Z",
     "shell.execute_reply": "2022-06-17T05:28:58.056636Z",
     "shell.execute_reply.started": "2021-08-06T03:58:29.677995Z"
    },
    "papermill": {
     "duration": 1.094353,
     "end_time": "2022-06-17T05:28:58.057051",
     "exception": false,
     "start_time": "2022-06-17T05:28:56.962698",
     "status": "completed"
    },
    "tags": []
   },
   "outputs": [
    {
     "name": "stdout",
     "output_type": "stream",
     "text": [
      "/kaggle/input/sf-crime/train.csv.zip\n",
      "/kaggle/input/sf-crime/sampleSubmission.csv.zip\n",
      "/kaggle/input/sf-crime/test.csv.zip\n"
     ]
    }
   ],
   "source": [
    "import numpy as np \n",
    "import pandas as pd \n",
    "import seaborn as sns\n",
    "\n",
    "import os\n",
    "for dirname, _, filenames in os.walk('/kaggle/input'):\n",
    "    for filename in filenames:\n",
    "        print(os.path.join(dirname, filename))\n"
   ]
  },
  {
   "cell_type": "code",
   "execution_count": 2,
   "id": "dc9a9296",
   "metadata": {
    "execution": {
     "iopub.execute_input": "2022-06-17T05:28:58.103161Z",
     "iopub.status.busy": "2022-06-17T05:28:58.102229Z",
     "iopub.status.idle": "2022-06-17T05:29:03.244050Z",
     "shell.execute_reply": "2022-06-17T05:29:03.243539Z",
     "shell.execute_reply.started": "2021-08-06T03:58:30.642195Z"
    },
    "papermill": {
     "duration": 5.164844,
     "end_time": "2022-06-17T05:29:03.244198",
     "exception": false,
     "start_time": "2022-06-17T05:28:58.079354",
     "status": "completed"
    },
    "tags": []
   },
   "outputs": [],
   "source": [
    "t=pd.read_csv('/kaggle/input/sf-crime/train.csv.zip')\n",
    "te=pd.read_csv('/kaggle/input/sf-crime/test.csv.zip')"
   ]
  },
  {
   "cell_type": "code",
   "execution_count": 3,
   "id": "52436706",
   "metadata": {
    "execution": {
     "iopub.execute_input": "2022-06-17T05:29:03.290583Z",
     "iopub.status.busy": "2022-06-17T05:29:03.289861Z",
     "iopub.status.idle": "2022-06-17T05:29:03.320301Z",
     "shell.execute_reply": "2022-06-17T05:29:03.319671Z",
     "shell.execute_reply.started": "2021-08-06T03:58:36.269082Z"
    },
    "papermill": {
     "duration": 0.053979,
     "end_time": "2022-06-17T05:29:03.320448",
     "exception": false,
     "start_time": "2022-06-17T05:29:03.266469",
     "status": "completed"
    },
    "tags": []
   },
   "outputs": [
    {
     "data": {
      "text/html": [
       "<div>\n",
       "<style scoped>\n",
       "    .dataframe tbody tr th:only-of-type {\n",
       "        vertical-align: middle;\n",
       "    }\n",
       "\n",
       "    .dataframe tbody tr th {\n",
       "        vertical-align: top;\n",
       "    }\n",
       "\n",
       "    .dataframe thead th {\n",
       "        text-align: right;\n",
       "    }\n",
       "</style>\n",
       "<table border=\"1\" class=\"dataframe\">\n",
       "  <thead>\n",
       "    <tr style=\"text-align: right;\">\n",
       "      <th></th>\n",
       "      <th>Dates</th>\n",
       "      <th>Category</th>\n",
       "      <th>Descript</th>\n",
       "      <th>DayOfWeek</th>\n",
       "      <th>PdDistrict</th>\n",
       "      <th>Resolution</th>\n",
       "      <th>Address</th>\n",
       "      <th>X</th>\n",
       "      <th>Y</th>\n",
       "    </tr>\n",
       "  </thead>\n",
       "  <tbody>\n",
       "    <tr>\n",
       "      <th>0</th>\n",
       "      <td>2015-05-13 23:53:00</td>\n",
       "      <td>WARRANTS</td>\n",
       "      <td>WARRANT ARREST</td>\n",
       "      <td>Wednesday</td>\n",
       "      <td>NORTHERN</td>\n",
       "      <td>ARREST, BOOKED</td>\n",
       "      <td>OAK ST / LAGUNA ST</td>\n",
       "      <td>-122.425892</td>\n",
       "      <td>37.774599</td>\n",
       "    </tr>\n",
       "    <tr>\n",
       "      <th>1</th>\n",
       "      <td>2015-05-13 23:53:00</td>\n",
       "      <td>OTHER OFFENSES</td>\n",
       "      <td>TRAFFIC VIOLATION ARREST</td>\n",
       "      <td>Wednesday</td>\n",
       "      <td>NORTHERN</td>\n",
       "      <td>ARREST, BOOKED</td>\n",
       "      <td>OAK ST / LAGUNA ST</td>\n",
       "      <td>-122.425892</td>\n",
       "      <td>37.774599</td>\n",
       "    </tr>\n",
       "    <tr>\n",
       "      <th>2</th>\n",
       "      <td>2015-05-13 23:33:00</td>\n",
       "      <td>OTHER OFFENSES</td>\n",
       "      <td>TRAFFIC VIOLATION ARREST</td>\n",
       "      <td>Wednesday</td>\n",
       "      <td>NORTHERN</td>\n",
       "      <td>ARREST, BOOKED</td>\n",
       "      <td>VANNESS AV / GREENWICH ST</td>\n",
       "      <td>-122.424363</td>\n",
       "      <td>37.800414</td>\n",
       "    </tr>\n",
       "    <tr>\n",
       "      <th>3</th>\n",
       "      <td>2015-05-13 23:30:00</td>\n",
       "      <td>LARCENY/THEFT</td>\n",
       "      <td>GRAND THEFT FROM LOCKED AUTO</td>\n",
       "      <td>Wednesday</td>\n",
       "      <td>NORTHERN</td>\n",
       "      <td>NONE</td>\n",
       "      <td>1500 Block of LOMBARD ST</td>\n",
       "      <td>-122.426995</td>\n",
       "      <td>37.800873</td>\n",
       "    </tr>\n",
       "    <tr>\n",
       "      <th>4</th>\n",
       "      <td>2015-05-13 23:30:00</td>\n",
       "      <td>LARCENY/THEFT</td>\n",
       "      <td>GRAND THEFT FROM LOCKED AUTO</td>\n",
       "      <td>Wednesday</td>\n",
       "      <td>PARK</td>\n",
       "      <td>NONE</td>\n",
       "      <td>100 Block of BRODERICK ST</td>\n",
       "      <td>-122.438738</td>\n",
       "      <td>37.771541</td>\n",
       "    </tr>\n",
       "  </tbody>\n",
       "</table>\n",
       "</div>"
      ],
      "text/plain": [
       "                 Dates        Category                      Descript  \\\n",
       "0  2015-05-13 23:53:00        WARRANTS                WARRANT ARREST   \n",
       "1  2015-05-13 23:53:00  OTHER OFFENSES      TRAFFIC VIOLATION ARREST   \n",
       "2  2015-05-13 23:33:00  OTHER OFFENSES      TRAFFIC VIOLATION ARREST   \n",
       "3  2015-05-13 23:30:00   LARCENY/THEFT  GRAND THEFT FROM LOCKED AUTO   \n",
       "4  2015-05-13 23:30:00   LARCENY/THEFT  GRAND THEFT FROM LOCKED AUTO   \n",
       "\n",
       "   DayOfWeek PdDistrict      Resolution                    Address  \\\n",
       "0  Wednesday   NORTHERN  ARREST, BOOKED         OAK ST / LAGUNA ST   \n",
       "1  Wednesday   NORTHERN  ARREST, BOOKED         OAK ST / LAGUNA ST   \n",
       "2  Wednesday   NORTHERN  ARREST, BOOKED  VANNESS AV / GREENWICH ST   \n",
       "3  Wednesday   NORTHERN            NONE   1500 Block of LOMBARD ST   \n",
       "4  Wednesday       PARK            NONE  100 Block of BRODERICK ST   \n",
       "\n",
       "            X          Y  \n",
       "0 -122.425892  37.774599  \n",
       "1 -122.425892  37.774599  \n",
       "2 -122.424363  37.800414  \n",
       "3 -122.426995  37.800873  \n",
       "4 -122.438738  37.771541  "
      ]
     },
     "execution_count": 3,
     "metadata": {},
     "output_type": "execute_result"
    }
   ],
   "source": [
    "t.head()"
   ]
  },
  {
   "cell_type": "code",
   "execution_count": 4,
   "id": "f3ae8bed",
   "metadata": {
    "execution": {
     "iopub.execute_input": "2022-06-17T05:29:03.366435Z",
     "iopub.status.busy": "2022-06-17T05:29:03.365828Z",
     "iopub.status.idle": "2022-06-17T05:29:03.377553Z",
     "shell.execute_reply": "2022-06-17T05:29:03.377951Z",
     "shell.execute_reply.started": "2021-08-06T03:58:36.304852Z"
    },
    "papermill": {
     "duration": 0.036296,
     "end_time": "2022-06-17T05:29:03.378132",
     "exception": false,
     "start_time": "2022-06-17T05:29:03.341836",
     "status": "completed"
    },
    "tags": []
   },
   "outputs": [
    {
     "data": {
      "text/html": [
       "<div>\n",
       "<style scoped>\n",
       "    .dataframe tbody tr th:only-of-type {\n",
       "        vertical-align: middle;\n",
       "    }\n",
       "\n",
       "    .dataframe tbody tr th {\n",
       "        vertical-align: top;\n",
       "    }\n",
       "\n",
       "    .dataframe thead th {\n",
       "        text-align: right;\n",
       "    }\n",
       "</style>\n",
       "<table border=\"1\" class=\"dataframe\">\n",
       "  <thead>\n",
       "    <tr style=\"text-align: right;\">\n",
       "      <th></th>\n",
       "      <th>Id</th>\n",
       "      <th>Dates</th>\n",
       "      <th>DayOfWeek</th>\n",
       "      <th>PdDistrict</th>\n",
       "      <th>Address</th>\n",
       "      <th>X</th>\n",
       "      <th>Y</th>\n",
       "    </tr>\n",
       "  </thead>\n",
       "  <tbody>\n",
       "    <tr>\n",
       "      <th>0</th>\n",
       "      <td>0</td>\n",
       "      <td>2015-05-10 23:59:00</td>\n",
       "      <td>Sunday</td>\n",
       "      <td>BAYVIEW</td>\n",
       "      <td>2000 Block of THOMAS AV</td>\n",
       "      <td>-122.399588</td>\n",
       "      <td>37.735051</td>\n",
       "    </tr>\n",
       "    <tr>\n",
       "      <th>1</th>\n",
       "      <td>1</td>\n",
       "      <td>2015-05-10 23:51:00</td>\n",
       "      <td>Sunday</td>\n",
       "      <td>BAYVIEW</td>\n",
       "      <td>3RD ST / REVERE AV</td>\n",
       "      <td>-122.391523</td>\n",
       "      <td>37.732432</td>\n",
       "    </tr>\n",
       "    <tr>\n",
       "      <th>2</th>\n",
       "      <td>2</td>\n",
       "      <td>2015-05-10 23:50:00</td>\n",
       "      <td>Sunday</td>\n",
       "      <td>NORTHERN</td>\n",
       "      <td>2000 Block of GOUGH ST</td>\n",
       "      <td>-122.426002</td>\n",
       "      <td>37.792212</td>\n",
       "    </tr>\n",
       "    <tr>\n",
       "      <th>3</th>\n",
       "      <td>3</td>\n",
       "      <td>2015-05-10 23:45:00</td>\n",
       "      <td>Sunday</td>\n",
       "      <td>INGLESIDE</td>\n",
       "      <td>4700 Block of MISSION ST</td>\n",
       "      <td>-122.437394</td>\n",
       "      <td>37.721412</td>\n",
       "    </tr>\n",
       "    <tr>\n",
       "      <th>4</th>\n",
       "      <td>4</td>\n",
       "      <td>2015-05-10 23:45:00</td>\n",
       "      <td>Sunday</td>\n",
       "      <td>INGLESIDE</td>\n",
       "      <td>4700 Block of MISSION ST</td>\n",
       "      <td>-122.437394</td>\n",
       "      <td>37.721412</td>\n",
       "    </tr>\n",
       "  </tbody>\n",
       "</table>\n",
       "</div>"
      ],
      "text/plain": [
       "   Id                Dates DayOfWeek PdDistrict                   Address  \\\n",
       "0   0  2015-05-10 23:59:00    Sunday    BAYVIEW   2000 Block of THOMAS AV   \n",
       "1   1  2015-05-10 23:51:00    Sunday    BAYVIEW        3RD ST / REVERE AV   \n",
       "2   2  2015-05-10 23:50:00    Sunday   NORTHERN    2000 Block of GOUGH ST   \n",
       "3   3  2015-05-10 23:45:00    Sunday  INGLESIDE  4700 Block of MISSION ST   \n",
       "4   4  2015-05-10 23:45:00    Sunday  INGLESIDE  4700 Block of MISSION ST   \n",
       "\n",
       "            X          Y  \n",
       "0 -122.399588  37.735051  \n",
       "1 -122.391523  37.732432  \n",
       "2 -122.426002  37.792212  \n",
       "3 -122.437394  37.721412  \n",
       "4 -122.437394  37.721412  "
      ]
     },
     "execution_count": 4,
     "metadata": {},
     "output_type": "execute_result"
    }
   ],
   "source": [
    "te.head()"
   ]
  },
  {
   "cell_type": "code",
   "execution_count": 5,
   "id": "d89d5620",
   "metadata": {
    "execution": {
     "iopub.execute_input": "2022-06-17T05:29:03.426245Z",
     "iopub.status.busy": "2022-06-17T05:29:03.425623Z",
     "iopub.status.idle": "2022-06-17T05:29:03.517925Z",
     "shell.execute_reply": "2022-06-17T05:29:03.518370Z",
     "shell.execute_reply.started": "2021-08-06T03:58:36.320488Z"
    },
    "papermill": {
     "duration": 0.116912,
     "end_time": "2022-06-17T05:29:03.518562",
     "exception": false,
     "start_time": "2022-06-17T05:29:03.401650",
     "status": "completed"
    },
    "tags": []
   },
   "outputs": [
    {
     "data": {
      "text/plain": [
       "(39,)"
      ]
     },
     "execution_count": 5,
     "metadata": {},
     "output_type": "execute_result"
    }
   ],
   "source": [
    "x=t['Category'].value_counts()\n",
    "x.shape"
   ]
  },
  {
   "cell_type": "code",
   "execution_count": 6,
   "id": "7e45c970",
   "metadata": {
    "execution": {
     "iopub.execute_input": "2022-06-17T05:29:03.567443Z",
     "iopub.status.busy": "2022-06-17T05:29:03.566551Z",
     "iopub.status.idle": "2022-06-17T05:29:03.571727Z",
     "shell.execute_reply": "2022-06-17T05:29:03.572127Z",
     "shell.execute_reply.started": "2021-08-06T03:58:36.421072Z"
    },
    "papermill": {
     "duration": 0.03059,
     "end_time": "2022-06-17T05:29:03.572292",
     "exception": false,
     "start_time": "2022-06-17T05:29:03.541702",
     "status": "completed"
    },
    "tags": []
   },
   "outputs": [
    {
     "data": {
      "text/plain": [
       "(878049, 9)"
      ]
     },
     "execution_count": 6,
     "metadata": {},
     "output_type": "execute_result"
    }
   ],
   "source": [
    "t.shape"
   ]
  },
  {
   "cell_type": "code",
   "execution_count": 7,
   "id": "e7067ebb",
   "metadata": {
    "execution": {
     "iopub.execute_input": "2022-06-17T05:29:03.620701Z",
     "iopub.status.busy": "2022-06-17T05:29:03.619781Z",
     "iopub.status.idle": "2022-06-17T05:29:03.624833Z",
     "shell.execute_reply": "2022-06-17T05:29:03.625226Z",
     "shell.execute_reply.started": "2021-08-06T03:58:36.435632Z"
    },
    "papermill": {
     "duration": 0.030802,
     "end_time": "2022-06-17T05:29:03.625387",
     "exception": false,
     "start_time": "2022-06-17T05:29:03.594585",
     "status": "completed"
    },
    "tags": []
   },
   "outputs": [
    {
     "data": {
      "text/plain": [
       "(884262, 7)"
      ]
     },
     "execution_count": 7,
     "metadata": {},
     "output_type": "execute_result"
    }
   ],
   "source": [
    "te.shape"
   ]
  },
  {
   "cell_type": "code",
   "execution_count": 8,
   "id": "281eceed",
   "metadata": {
    "execution": {
     "iopub.execute_input": "2022-06-17T05:29:03.673337Z",
     "iopub.status.busy": "2022-06-17T05:29:03.672336Z",
     "iopub.status.idle": "2022-06-17T05:29:03.937202Z",
     "shell.execute_reply": "2022-06-17T05:29:03.936623Z",
     "shell.execute_reply.started": "2021-08-06T03:58:36.453685Z"
    },
    "papermill": {
     "duration": 0.289997,
     "end_time": "2022-06-17T05:29:03.937339",
     "exception": false,
     "start_time": "2022-06-17T05:29:03.647342",
     "status": "completed"
    },
    "tags": []
   },
   "outputs": [
    {
     "name": "stdout",
     "output_type": "stream",
     "text": [
      "<class 'pandas.core.frame.DataFrame'>\n",
      "RangeIndex: 878049 entries, 0 to 878048\n",
      "Data columns (total 9 columns):\n",
      " #   Column      Non-Null Count   Dtype  \n",
      "---  ------      --------------   -----  \n",
      " 0   Dates       878049 non-null  object \n",
      " 1   Category    878049 non-null  object \n",
      " 2   Descript    878049 non-null  object \n",
      " 3   DayOfWeek   878049 non-null  object \n",
      " 4   PdDistrict  878049 non-null  object \n",
      " 5   Resolution  878049 non-null  object \n",
      " 6   Address     878049 non-null  object \n",
      " 7   X           878049 non-null  float64\n",
      " 8   Y           878049 non-null  float64\n",
      "dtypes: float64(2), object(7)\n",
      "memory usage: 60.3+ MB\n"
     ]
    }
   ],
   "source": [
    "t.info()"
   ]
  },
  {
   "cell_type": "code",
   "execution_count": 9,
   "id": "5f3fbe61",
   "metadata": {
    "execution": {
     "iopub.execute_input": "2022-06-17T05:29:03.986000Z",
     "iopub.status.busy": "2022-06-17T05:29:03.985092Z",
     "iopub.status.idle": "2022-06-17T05:29:04.152702Z",
     "shell.execute_reply": "2022-06-17T05:29:04.151695Z",
     "shell.execute_reply.started": "2021-08-06T03:58:36.717383Z"
    },
    "papermill": {
     "duration": 0.193126,
     "end_time": "2022-06-17T05:29:04.153056",
     "exception": false,
     "start_time": "2022-06-17T05:29:03.959930",
     "status": "completed"
    },
    "tags": []
   },
   "outputs": [
    {
     "name": "stdout",
     "output_type": "stream",
     "text": [
      "<class 'pandas.core.frame.DataFrame'>\n",
      "RangeIndex: 884262 entries, 0 to 884261\n",
      "Data columns (total 7 columns):\n",
      " #   Column      Non-Null Count   Dtype  \n",
      "---  ------      --------------   -----  \n",
      " 0   Id          884262 non-null  int64  \n",
      " 1   Dates       884262 non-null  object \n",
      " 2   DayOfWeek   884262 non-null  object \n",
      " 3   PdDistrict  884262 non-null  object \n",
      " 4   Address     884262 non-null  object \n",
      " 5   X           884262 non-null  float64\n",
      " 6   Y           884262 non-null  float64\n",
      "dtypes: float64(2), int64(1), object(4)\n",
      "memory usage: 47.2+ MB\n"
     ]
    }
   ],
   "source": [
    "te.info()"
   ]
  },
  {
   "cell_type": "code",
   "execution_count": 10,
   "id": "37dfa789",
   "metadata": {
    "execution": {
     "iopub.execute_input": "2022-06-17T05:29:04.253929Z",
     "iopub.status.busy": "2022-06-17T05:29:04.247939Z",
     "iopub.status.idle": "2022-06-17T05:29:05.070313Z",
     "shell.execute_reply": "2022-06-17T05:29:05.069710Z",
     "shell.execute_reply.started": "2021-08-06T03:58:36.879128Z"
    },
    "papermill": {
     "duration": 0.892977,
     "end_time": "2022-06-17T05:29:05.070449",
     "exception": false,
     "start_time": "2022-06-17T05:29:04.177472",
     "status": "completed"
    },
    "tags": []
   },
   "outputs": [],
   "source": [
    "t.drop(['Descript','Resolution','Address'],inplace=True,axis=1)\n",
    "te.drop('Address',axis=1,inplace=True)\n",
    "\n",
    "t['DayOfWeek'].replace(to_replace=['Monday','Tuesday','Wednesday','Thursday','Friday','Saturday','Sunday'],value=[i for i in range(0,7)],inplace=True)\n",
    "te['DayOfWeek'].replace(to_replace=['Monday','Tuesday','Wednesday','Thursday','Friday','Saturday','Sunday'],value=[i for i in range(0,7)],inplace=True)\n",
    "\n",
    "\n"
   ]
  },
  {
   "cell_type": "code",
   "execution_count": 11,
   "id": "38d17ec0",
   "metadata": {
    "execution": {
     "iopub.execute_input": "2022-06-17T05:29:05.122766Z",
     "iopub.status.busy": "2022-06-17T05:29:05.121975Z",
     "iopub.status.idle": "2022-06-17T05:29:05.298610Z",
     "shell.execute_reply": "2022-06-17T05:29:05.297994Z",
     "shell.execute_reply.started": "2021-08-06T03:58:37.735447Z"
    },
    "papermill": {
     "duration": 0.205436,
     "end_time": "2022-06-17T05:29:05.298752",
     "exception": false,
     "start_time": "2022-06-17T05:29:05.093316",
     "status": "completed"
    },
    "tags": []
   },
   "outputs": [
    {
     "data": {
      "text/html": [
       "<div>\n",
       "<style scoped>\n",
       "    .dataframe tbody tr th:only-of-type {\n",
       "        vertical-align: middle;\n",
       "    }\n",
       "\n",
       "    .dataframe tbody tr th {\n",
       "        vertical-align: top;\n",
       "    }\n",
       "\n",
       "    .dataframe thead th {\n",
       "        text-align: right;\n",
       "    }\n",
       "</style>\n",
       "<table border=\"1\" class=\"dataframe\">\n",
       "  <thead>\n",
       "    <tr style=\"text-align: right;\">\n",
       "      <th></th>\n",
       "      <th>Id</th>\n",
       "      <th>Dates</th>\n",
       "      <th>DayOfWeek</th>\n",
       "      <th>PdDistrict</th>\n",
       "      <th>X</th>\n",
       "      <th>Y</th>\n",
       "    </tr>\n",
       "  </thead>\n",
       "  <tbody>\n",
       "    <tr>\n",
       "      <th>0</th>\n",
       "      <td>0</td>\n",
       "      <td>2015-05-10 23:59:00</td>\n",
       "      <td>6</td>\n",
       "      <td>BAYVIEW</td>\n",
       "      <td>-122.399588</td>\n",
       "      <td>37.735051</td>\n",
       "    </tr>\n",
       "    <tr>\n",
       "      <th>1</th>\n",
       "      <td>1</td>\n",
       "      <td>2015-05-10 23:51:00</td>\n",
       "      <td>6</td>\n",
       "      <td>BAYVIEW</td>\n",
       "      <td>-122.391523</td>\n",
       "      <td>37.732432</td>\n",
       "    </tr>\n",
       "    <tr>\n",
       "      <th>2</th>\n",
       "      <td>2</td>\n",
       "      <td>2015-05-10 23:50:00</td>\n",
       "      <td>6</td>\n",
       "      <td>NORTHERN</td>\n",
       "      <td>-122.426002</td>\n",
       "      <td>37.792212</td>\n",
       "    </tr>\n",
       "    <tr>\n",
       "      <th>3</th>\n",
       "      <td>3</td>\n",
       "      <td>2015-05-10 23:45:00</td>\n",
       "      <td>6</td>\n",
       "      <td>INGLESIDE</td>\n",
       "      <td>-122.437394</td>\n",
       "      <td>37.721412</td>\n",
       "    </tr>\n",
       "    <tr>\n",
       "      <th>4</th>\n",
       "      <td>4</td>\n",
       "      <td>2015-05-10 23:45:00</td>\n",
       "      <td>6</td>\n",
       "      <td>INGLESIDE</td>\n",
       "      <td>-122.437394</td>\n",
       "      <td>37.721412</td>\n",
       "    </tr>\n",
       "  </tbody>\n",
       "</table>\n",
       "</div>"
      ],
      "text/plain": [
       "   Id                Dates  DayOfWeek PdDistrict           X          Y\n",
       "0   0  2015-05-10 23:59:00          6    BAYVIEW -122.399588  37.735051\n",
       "1   1  2015-05-10 23:51:00          6    BAYVIEW -122.391523  37.732432\n",
       "2   2  2015-05-10 23:50:00          6   NORTHERN -122.426002  37.792212\n",
       "3   3  2015-05-10 23:45:00          6  INGLESIDE -122.437394  37.721412\n",
       "4   4  2015-05-10 23:45:00          6  INGLESIDE -122.437394  37.721412"
      ]
     },
     "execution_count": 11,
     "metadata": {},
     "output_type": "execute_result"
    }
   ],
   "source": [
    "from sklearn.preprocessing import LabelEncoder\n",
    "l=LabelEncoder()\n",
    "te['DayOfWeek']=l.fit_transform(te['DayOfWeek'])\n",
    "te.head()"
   ]
  },
  {
   "cell_type": "code",
   "execution_count": 12,
   "id": "3dd5768a",
   "metadata": {
    "execution": {
     "iopub.execute_input": "2022-06-17T05:29:05.358126Z",
     "iopub.status.busy": "2022-06-17T05:29:05.357271Z",
     "iopub.status.idle": "2022-06-17T05:29:05.361544Z",
     "shell.execute_reply": "2022-06-17T05:29:05.361023Z",
     "shell.execute_reply.started": "2021-08-06T03:58:37.925248Z"
    },
    "papermill": {
     "duration": 0.038919,
     "end_time": "2022-06-17T05:29:05.361680",
     "exception": false,
     "start_time": "2022-06-17T05:29:05.322761",
     "status": "completed"
    },
    "tags": []
   },
   "outputs": [
    {
     "data": {
      "text/html": [
       "<div>\n",
       "<style scoped>\n",
       "    .dataframe tbody tr th:only-of-type {\n",
       "        vertical-align: middle;\n",
       "    }\n",
       "\n",
       "    .dataframe tbody tr th {\n",
       "        vertical-align: top;\n",
       "    }\n",
       "\n",
       "    .dataframe thead th {\n",
       "        text-align: right;\n",
       "    }\n",
       "</style>\n",
       "<table border=\"1\" class=\"dataframe\">\n",
       "  <thead>\n",
       "    <tr style=\"text-align: right;\">\n",
       "      <th></th>\n",
       "      <th>Dates</th>\n",
       "      <th>Category</th>\n",
       "      <th>DayOfWeek</th>\n",
       "      <th>PdDistrict</th>\n",
       "      <th>X</th>\n",
       "      <th>Y</th>\n",
       "    </tr>\n",
       "  </thead>\n",
       "  <tbody>\n",
       "    <tr>\n",
       "      <th>0</th>\n",
       "      <td>2015-05-13 23:53:00</td>\n",
       "      <td>WARRANTS</td>\n",
       "      <td>2</td>\n",
       "      <td>NORTHERN</td>\n",
       "      <td>-122.425892</td>\n",
       "      <td>37.774599</td>\n",
       "    </tr>\n",
       "    <tr>\n",
       "      <th>1</th>\n",
       "      <td>2015-05-13 23:53:00</td>\n",
       "      <td>OTHER OFFENSES</td>\n",
       "      <td>2</td>\n",
       "      <td>NORTHERN</td>\n",
       "      <td>-122.425892</td>\n",
       "      <td>37.774599</td>\n",
       "    </tr>\n",
       "    <tr>\n",
       "      <th>2</th>\n",
       "      <td>2015-05-13 23:33:00</td>\n",
       "      <td>OTHER OFFENSES</td>\n",
       "      <td>2</td>\n",
       "      <td>NORTHERN</td>\n",
       "      <td>-122.424363</td>\n",
       "      <td>37.800414</td>\n",
       "    </tr>\n",
       "    <tr>\n",
       "      <th>3</th>\n",
       "      <td>2015-05-13 23:30:00</td>\n",
       "      <td>LARCENY/THEFT</td>\n",
       "      <td>2</td>\n",
       "      <td>NORTHERN</td>\n",
       "      <td>-122.426995</td>\n",
       "      <td>37.800873</td>\n",
       "    </tr>\n",
       "    <tr>\n",
       "      <th>4</th>\n",
       "      <td>2015-05-13 23:30:00</td>\n",
       "      <td>LARCENY/THEFT</td>\n",
       "      <td>2</td>\n",
       "      <td>PARK</td>\n",
       "      <td>-122.438738</td>\n",
       "      <td>37.771541</td>\n",
       "    </tr>\n",
       "  </tbody>\n",
       "</table>\n",
       "</div>"
      ],
      "text/plain": [
       "                 Dates        Category  DayOfWeek PdDistrict           X  \\\n",
       "0  2015-05-13 23:53:00        WARRANTS          2   NORTHERN -122.425892   \n",
       "1  2015-05-13 23:53:00  OTHER OFFENSES          2   NORTHERN -122.425892   \n",
       "2  2015-05-13 23:33:00  OTHER OFFENSES          2   NORTHERN -122.424363   \n",
       "3  2015-05-13 23:30:00   LARCENY/THEFT          2   NORTHERN -122.426995   \n",
       "4  2015-05-13 23:30:00   LARCENY/THEFT          2       PARK -122.438738   \n",
       "\n",
       "           Y  \n",
       "0  37.774599  \n",
       "1  37.774599  \n",
       "2  37.800414  \n",
       "3  37.800873  \n",
       "4  37.771541  "
      ]
     },
     "execution_count": 12,
     "metadata": {},
     "output_type": "execute_result"
    }
   ],
   "source": [
    "t.head()"
   ]
  },
  {
   "cell_type": "code",
   "execution_count": 13,
   "id": "3df69eea",
   "metadata": {
    "execution": {
     "iopub.execute_input": "2022-06-17T05:29:05.420185Z",
     "iopub.status.busy": "2022-06-17T05:29:05.419555Z",
     "iopub.status.idle": "2022-06-17T05:29:05.422284Z",
     "shell.execute_reply": "2022-06-17T05:29:05.422820Z",
     "shell.execute_reply.started": "2021-08-06T03:58:37.942261Z"
    },
    "papermill": {
     "duration": 0.03706,
     "end_time": "2022-06-17T05:29:05.422993",
     "exception": false,
     "start_time": "2022-06-17T05:29:05.385933",
     "status": "completed"
    },
    "tags": []
   },
   "outputs": [
    {
     "data": {
      "text/html": [
       "<div>\n",
       "<style scoped>\n",
       "    .dataframe tbody tr th:only-of-type {\n",
       "        vertical-align: middle;\n",
       "    }\n",
       "\n",
       "    .dataframe tbody tr th {\n",
       "        vertical-align: top;\n",
       "    }\n",
       "\n",
       "    .dataframe thead th {\n",
       "        text-align: right;\n",
       "    }\n",
       "</style>\n",
       "<table border=\"1\" class=\"dataframe\">\n",
       "  <thead>\n",
       "    <tr style=\"text-align: right;\">\n",
       "      <th></th>\n",
       "      <th>Id</th>\n",
       "      <th>Dates</th>\n",
       "      <th>DayOfWeek</th>\n",
       "      <th>PdDistrict</th>\n",
       "      <th>X</th>\n",
       "      <th>Y</th>\n",
       "    </tr>\n",
       "  </thead>\n",
       "  <tbody>\n",
       "    <tr>\n",
       "      <th>0</th>\n",
       "      <td>0</td>\n",
       "      <td>2015-05-10 23:59:00</td>\n",
       "      <td>6</td>\n",
       "      <td>BAYVIEW</td>\n",
       "      <td>-122.399588</td>\n",
       "      <td>37.735051</td>\n",
       "    </tr>\n",
       "    <tr>\n",
       "      <th>1</th>\n",
       "      <td>1</td>\n",
       "      <td>2015-05-10 23:51:00</td>\n",
       "      <td>6</td>\n",
       "      <td>BAYVIEW</td>\n",
       "      <td>-122.391523</td>\n",
       "      <td>37.732432</td>\n",
       "    </tr>\n",
       "    <tr>\n",
       "      <th>2</th>\n",
       "      <td>2</td>\n",
       "      <td>2015-05-10 23:50:00</td>\n",
       "      <td>6</td>\n",
       "      <td>NORTHERN</td>\n",
       "      <td>-122.426002</td>\n",
       "      <td>37.792212</td>\n",
       "    </tr>\n",
       "    <tr>\n",
       "      <th>3</th>\n",
       "      <td>3</td>\n",
       "      <td>2015-05-10 23:45:00</td>\n",
       "      <td>6</td>\n",
       "      <td>INGLESIDE</td>\n",
       "      <td>-122.437394</td>\n",
       "      <td>37.721412</td>\n",
       "    </tr>\n",
       "    <tr>\n",
       "      <th>4</th>\n",
       "      <td>4</td>\n",
       "      <td>2015-05-10 23:45:00</td>\n",
       "      <td>6</td>\n",
       "      <td>INGLESIDE</td>\n",
       "      <td>-122.437394</td>\n",
       "      <td>37.721412</td>\n",
       "    </tr>\n",
       "  </tbody>\n",
       "</table>\n",
       "</div>"
      ],
      "text/plain": [
       "   Id                Dates  DayOfWeek PdDistrict           X          Y\n",
       "0   0  2015-05-10 23:59:00          6    BAYVIEW -122.399588  37.735051\n",
       "1   1  2015-05-10 23:51:00          6    BAYVIEW -122.391523  37.732432\n",
       "2   2  2015-05-10 23:50:00          6   NORTHERN -122.426002  37.792212\n",
       "3   3  2015-05-10 23:45:00          6  INGLESIDE -122.437394  37.721412\n",
       "4   4  2015-05-10 23:45:00          6  INGLESIDE -122.437394  37.721412"
      ]
     },
     "execution_count": 13,
     "metadata": {},
     "output_type": "execute_result"
    }
   ],
   "source": [
    "te.head()"
   ]
  },
  {
   "cell_type": "code",
   "execution_count": 14,
   "id": "0f9fd8e3",
   "metadata": {
    "execution": {
     "iopub.execute_input": "2022-06-17T05:29:05.475748Z",
     "iopub.status.busy": "2022-06-17T05:29:05.475120Z",
     "iopub.status.idle": "2022-06-17T05:29:05.918631Z",
     "shell.execute_reply": "2022-06-17T05:29:05.919245Z",
     "shell.execute_reply.started": "2021-08-06T03:58:37.958901Z"
    },
    "papermill": {
     "duration": 0.470822,
     "end_time": "2022-06-17T05:29:05.919449",
     "exception": false,
     "start_time": "2022-06-17T05:29:05.448627",
     "status": "completed"
    },
    "tags": []
   },
   "outputs": [
    {
     "name": "stdout",
     "output_type": "stream",
     "text": [
      "(790244, 5) (790244, 39)\n",
      "(87805, 5) (87805, 39)\n"
     ]
    }
   ],
   "source": [
    "X=t.drop(['Category'],axis=1)\n",
    "y=pd.get_dummies(t['Category'])\n",
    "\n",
    "from sklearn.model_selection import train_test_split\n",
    "X_train,X_test,y_train,y_test=train_test_split(X,y,test_size=0.1)\n",
    "\n",
    "print(X_train.shape,y_train.shape)\n",
    "print(X_test.shape,y_test.shape)\n",
    "\n"
   ]
  },
  {
   "cell_type": "code",
   "execution_count": 15,
   "id": "1b7aa1ca",
   "metadata": {
    "execution": {
     "iopub.execute_input": "2022-06-17T05:29:05.972014Z",
     "iopub.status.busy": "2022-06-17T05:29:05.971115Z",
     "iopub.status.idle": "2022-06-17T05:29:06.027286Z",
     "shell.execute_reply": "2022-06-17T05:29:06.026655Z",
     "shell.execute_reply.started": "2021-08-06T03:58:38.422858Z"
    },
    "papermill": {
     "duration": 0.083394,
     "end_time": "2022-06-17T05:29:06.027578",
     "exception": false,
     "start_time": "2022-06-17T05:29:05.944184",
     "status": "completed"
    },
    "tags": []
   },
   "outputs": [
    {
     "data": {
      "text/html": [
       "<div>\n",
       "<style scoped>\n",
       "    .dataframe tbody tr th:only-of-type {\n",
       "        vertical-align: middle;\n",
       "    }\n",
       "\n",
       "    .dataframe tbody tr th {\n",
       "        vertical-align: top;\n",
       "    }\n",
       "\n",
       "    .dataframe thead th {\n",
       "        text-align: right;\n",
       "    }\n",
       "</style>\n",
       "<table border=\"1\" class=\"dataframe\">\n",
       "  <thead>\n",
       "    <tr style=\"text-align: right;\">\n",
       "      <th></th>\n",
       "      <th>Id</th>\n",
       "      <th>Dates</th>\n",
       "      <th>DayOfWeek</th>\n",
       "      <th>PdDistrict</th>\n",
       "      <th>X</th>\n",
       "      <th>Y</th>\n",
       "    </tr>\n",
       "  </thead>\n",
       "  <tbody>\n",
       "    <tr>\n",
       "      <th>0</th>\n",
       "      <td>0</td>\n",
       "      <td>2015-05-10 23:59:00</td>\n",
       "      <td>6</td>\n",
       "      <td>BAYVIEW</td>\n",
       "      <td>-122.399588</td>\n",
       "      <td>37.735051</td>\n",
       "    </tr>\n",
       "    <tr>\n",
       "      <th>1</th>\n",
       "      <td>1</td>\n",
       "      <td>2015-05-10 23:51:00</td>\n",
       "      <td>6</td>\n",
       "      <td>BAYVIEW</td>\n",
       "      <td>-122.391523</td>\n",
       "      <td>37.732432</td>\n",
       "    </tr>\n",
       "    <tr>\n",
       "      <th>2</th>\n",
       "      <td>2</td>\n",
       "      <td>2015-05-10 23:50:00</td>\n",
       "      <td>6</td>\n",
       "      <td>NORTHERN</td>\n",
       "      <td>-122.426002</td>\n",
       "      <td>37.792212</td>\n",
       "    </tr>\n",
       "    <tr>\n",
       "      <th>3</th>\n",
       "      <td>3</td>\n",
       "      <td>2015-05-10 23:45:00</td>\n",
       "      <td>6</td>\n",
       "      <td>INGLESIDE</td>\n",
       "      <td>-122.437394</td>\n",
       "      <td>37.721412</td>\n",
       "    </tr>\n",
       "    <tr>\n",
       "      <th>4</th>\n",
       "      <td>4</td>\n",
       "      <td>2015-05-10 23:45:00</td>\n",
       "      <td>6</td>\n",
       "      <td>INGLESIDE</td>\n",
       "      <td>-122.437394</td>\n",
       "      <td>37.721412</td>\n",
       "    </tr>\n",
       "  </tbody>\n",
       "</table>\n",
       "</div>"
      ],
      "text/plain": [
       "   Id                Dates  DayOfWeek PdDistrict           X          Y\n",
       "0   0  2015-05-10 23:59:00          6    BAYVIEW -122.399588  37.735051\n",
       "1   1  2015-05-10 23:51:00          6    BAYVIEW -122.391523  37.732432\n",
       "2   2  2015-05-10 23:50:00          6   NORTHERN -122.426002  37.792212\n",
       "3   3  2015-05-10 23:45:00          6  INGLESIDE -122.437394  37.721412\n",
       "4   4  2015-05-10 23:45:00          6  INGLESIDE -122.437394  37.721412"
      ]
     },
     "execution_count": 15,
     "metadata": {},
     "output_type": "execute_result"
    }
   ],
   "source": [
    "from sklearn.preprocessing import LabelEncoder\n",
    "l=LabelEncoder()\n",
    "te['DayOfWeek']=l.fit_transform(te['DayOfWeek'])\n",
    "te.head()"
   ]
  },
  {
   "cell_type": "code",
   "execution_count": 16,
   "id": "aad49e17",
   "metadata": {
    "execution": {
     "iopub.execute_input": "2022-06-17T05:29:06.080986Z",
     "iopub.status.busy": "2022-06-17T05:29:06.080083Z",
     "iopub.status.idle": "2022-06-17T05:29:06.203021Z",
     "shell.execute_reply": "2022-06-17T05:29:06.202096Z",
     "shell.execute_reply.started": "2021-08-06T03:58:38.480603Z"
    },
    "papermill": {
     "duration": 0.150799,
     "end_time": "2022-06-17T05:29:06.203217",
     "exception": false,
     "start_time": "2022-06-17T05:29:06.052418",
     "status": "completed"
    },
    "tags": []
   },
   "outputs": [
    {
     "name": "stdout",
     "output_type": "stream",
     "text": [
      "<class 'pandas.core.frame.DataFrame'>\n",
      "RangeIndex: 878049 entries, 0 to 878048\n",
      "Data columns (total 6 columns):\n",
      " #   Column      Non-Null Count   Dtype  \n",
      "---  ------      --------------   -----  \n",
      " 0   Dates       878049 non-null  object \n",
      " 1   Category    878049 non-null  object \n",
      " 2   DayOfWeek   878049 non-null  int64  \n",
      " 3   PdDistrict  878049 non-null  object \n",
      " 4   X           878049 non-null  float64\n",
      " 5   Y           878049 non-null  float64\n",
      "dtypes: float64(2), int64(1), object(3)\n",
      "memory usage: 40.2+ MB\n"
     ]
    }
   ],
   "source": [
    "t.info()"
   ]
  },
  {
   "cell_type": "code",
   "execution_count": 17,
   "id": "5c8ca405",
   "metadata": {
    "execution": {
     "iopub.execute_input": "2022-06-17T05:29:06.261831Z",
     "iopub.status.busy": "2022-06-17T05:29:06.260901Z",
     "iopub.status.idle": "2022-06-17T05:29:06.351325Z",
     "shell.execute_reply": "2022-06-17T05:29:06.350454Z",
     "shell.execute_reply.started": "2021-08-06T03:58:38.602381Z"
    },
    "papermill": {
     "duration": 0.11827,
     "end_time": "2022-06-17T05:29:06.351534",
     "exception": false,
     "start_time": "2022-06-17T05:29:06.233264",
     "status": "completed"
    },
    "tags": []
   },
   "outputs": [
    {
     "name": "stdout",
     "output_type": "stream",
     "text": [
      "<class 'pandas.core.frame.DataFrame'>\n",
      "RangeIndex: 884262 entries, 0 to 884261\n",
      "Data columns (total 6 columns):\n",
      " #   Column      Non-Null Count   Dtype  \n",
      "---  ------      --------------   -----  \n",
      " 0   Id          884262 non-null  int64  \n",
      " 1   Dates       884262 non-null  object \n",
      " 2   DayOfWeek   884262 non-null  int64  \n",
      " 3   PdDistrict  884262 non-null  object \n",
      " 4   X           884262 non-null  float64\n",
      " 5   Y           884262 non-null  float64\n",
      "dtypes: float64(2), int64(2), object(2)\n",
      "memory usage: 40.5+ MB\n"
     ]
    }
   ],
   "source": [
    "te.info()"
   ]
  },
  {
   "cell_type": "code",
   "execution_count": 18,
   "id": "e41cf73c",
   "metadata": {
    "execution": {
     "iopub.execute_input": "2022-06-17T05:29:06.490646Z",
     "iopub.status.busy": "2022-06-17T05:29:06.456535Z",
     "iopub.status.idle": "2022-06-17T05:29:06.498295Z",
     "shell.execute_reply": "2022-06-17T05:29:06.497648Z",
     "shell.execute_reply.started": "2021-08-06T03:58:38.692236Z"
    },
    "papermill": {
     "duration": 0.120462,
     "end_time": "2022-06-17T05:29:06.498456",
     "exception": false,
     "start_time": "2022-06-17T05:29:06.377994",
     "status": "completed"
    },
    "tags": []
   },
   "outputs": [
    {
     "data": {
      "text/plain": [
       "LARCENY/THEFT                  174900\n",
       "OTHER OFFENSES                 126182\n",
       "NON-CRIMINAL                    92304\n",
       "ASSAULT                         76876\n",
       "DRUG/NARCOTIC                   53971\n",
       "VEHICLE THEFT                   53781\n",
       "VANDALISM                       44725\n",
       "WARRANTS                        42214\n",
       "BURGLARY                        36755\n",
       "SUSPICIOUS OCC                  31414\n",
       "MISSING PERSON                  25989\n",
       "ROBBERY                         23000\n",
       "FRAUD                           16679\n",
       "FORGERY/COUNTERFEITING          10609\n",
       "SECONDARY CODES                  9985\n",
       "WEAPON LAWS                      8555\n",
       "PROSTITUTION                     7484\n",
       "TRESPASS                         7326\n",
       "STOLEN PROPERTY                  4540\n",
       "SEX OFFENSES FORCIBLE            4388\n",
       "DISORDERLY CONDUCT               4320\n",
       "DRUNKENNESS                      4280\n",
       "RECOVERED VEHICLE                3138\n",
       "KIDNAPPING                       2341\n",
       "DRIVING UNDER THE INFLUENCE      2268\n",
       "RUNAWAY                          1946\n",
       "LIQUOR LAWS                      1903\n",
       "ARSON                            1513\n",
       "LOITERING                        1225\n",
       "EMBEZZLEMENT                     1166\n",
       "SUICIDE                           508\n",
       "FAMILY OFFENSES                   491\n",
       "BAD CHECKS                        406\n",
       "BRIBERY                           289\n",
       "EXTORTION                         256\n",
       "SEX OFFENSES NON FORCIBLE         148\n",
       "GAMBLING                          146\n",
       "PORNOGRAPHY/OBSCENE MAT            22\n",
       "TREA                                6\n",
       "Name: Category, dtype: int64"
      ]
     },
     "execution_count": 18,
     "metadata": {},
     "output_type": "execute_result"
    }
   ],
   "source": [
    "t['Category'].value_counts()"
   ]
  },
  {
   "cell_type": "code",
   "execution_count": 19,
   "id": "0eb7d566",
   "metadata": {
    "execution": {
     "iopub.execute_input": "2022-06-17T05:29:06.554380Z",
     "iopub.status.busy": "2022-06-17T05:29:06.553790Z",
     "iopub.status.idle": "2022-06-17T05:29:06.558561Z",
     "shell.execute_reply": "2022-06-17T05:29:06.559072Z",
     "shell.execute_reply.started": "2021-08-06T03:58:38.784093Z"
    },
    "papermill": {
     "duration": 0.034457,
     "end_time": "2022-06-17T05:29:06.559252",
     "exception": false,
     "start_time": "2022-06-17T05:29:06.524795",
     "status": "completed"
    },
    "tags": []
   },
   "outputs": [
    {
     "data": {
      "text/plain": [
       "pandas.core.series.Series"
      ]
     },
     "execution_count": 19,
     "metadata": {},
     "output_type": "execute_result"
    }
   ],
   "source": [
    "type(t['Dates'])"
   ]
  },
  {
   "cell_type": "code",
   "execution_count": 20,
   "id": "a2270402",
   "metadata": {
    "execution": {
     "iopub.execute_input": "2022-06-17T05:29:06.614237Z",
     "iopub.status.busy": "2022-06-17T05:29:06.613514Z",
     "iopub.status.idle": "2022-06-17T05:29:06.938452Z",
     "shell.execute_reply": "2022-06-17T05:29:06.937958Z",
     "shell.execute_reply.started": "2021-08-06T03:58:38.797897Z"
    },
    "papermill": {
     "duration": 0.35398,
     "end_time": "2022-06-17T05:29:06.938612",
     "exception": false,
     "start_time": "2022-06-17T05:29:06.584632",
     "status": "completed"
    },
    "tags": []
   },
   "outputs": [
    {
     "data": {
      "image/png": "[encoded data removed]",
      "text/plain": [
       "<Figure size 432x288 with 2 Axes>"
      ]
     },
     "metadata": {
      "needs_background": "light"
     },
     "output_type": "display_data"
    }
   ],
   "source": [
    "_ = sns.heatmap(t.corr(), annot = True, fmt = \".2f\", cmap = 'YlGnBu')"
   ]
  },
  {
   "cell_type": "code",
   "execution_count": 21,
   "id": "822dbea6",
   "metadata": {
    "execution": {
     "iopub.execute_input": "2022-06-17T05:29:06.996746Z",
     "iopub.status.busy": "2022-06-17T05:29:06.996040Z",
     "iopub.status.idle": "2022-06-17T05:29:07.842694Z",
     "shell.execute_reply": "2022-06-17T05:29:07.841995Z",
     "shell.execute_reply.started": "2021-08-06T03:58:39.071889Z"
    },
    "papermill": {
     "duration": 0.877268,
     "end_time": "2022-06-17T05:29:07.842856",
     "exception": false,
     "start_time": "2022-06-17T05:29:06.965588",
     "status": "completed"
    },
    "tags": []
   },
   "outputs": [
    {
     "data": {
      "text/plain": [
       "array([[<AxesSubplot:title={'center':'DayOfWeek'}>,\n",
       "        <AxesSubplot:title={'center':'X'}>,\n",
       "        <AxesSubplot:title={'center':'Y'}>, <AxesSubplot:>,\n",
       "        <AxesSubplot:>, <AxesSubplot:>, <AxesSubplot:>, <AxesSubplot:>,\n",
       "        <AxesSubplot:>, <AxesSubplot:>, <AxesSubplot:>, <AxesSubplot:>,\n",
       "        <AxesSubplot:>]], dtype=object)"
      ]
     },
     "execution_count": 21,
     "metadata": {},
     "output_type": "execute_result"
    },
    {
     "data": {
      "image/png": "[encoded data removed]",
      "text/plain": [
       "<Figure size 1440x504 with 13 Axes>"
      ]
     },
     "metadata": {
      "needs_background": "light"
     },
     "output_type": "display_data"
    }
   ],
   "source": [
    "t.hist(column=t.columns, figsize=(20,7),layout=(1,13))"
   ]
  },
  {
   "cell_type": "code",
   "execution_count": 22,
   "id": "ba9405b4",
   "metadata": {
    "execution": {
     "iopub.execute_input": "2022-06-17T05:29:07.984839Z",
     "iopub.status.busy": "2022-06-17T05:29:07.979578Z",
     "iopub.status.idle": "2022-06-17T05:29:10.314551Z",
     "shell.execute_reply": "2022-06-17T05:29:10.314035Z",
     "shell.execute_reply.started": "2021-08-06T03:58:39.92391Z"
    },
    "papermill": {
     "duration": 2.444016,
     "end_time": "2022-06-17T05:29:10.314695",
     "exception": false,
     "start_time": "2022-06-17T05:29:07.870679",
     "status": "completed"
    },
    "tags": []
   },
   "outputs": [
    {
     "data": {
      "text/html": [
       "<div>\n",
       "<style scoped>\n",
       "    .dataframe tbody tr th:only-of-type {\n",
       "        vertical-align: middle;\n",
       "    }\n",
       "\n",
       "    .dataframe tbody tr th {\n",
       "        vertical-align: top;\n",
       "    }\n",
       "\n",
       "    .dataframe thead th {\n",
       "        text-align: right;\n",
       "    }\n",
       "</style>\n",
       "<table border=\"1\" class=\"dataframe\">\n",
       "  <thead>\n",
       "    <tr style=\"text-align: right;\">\n",
       "      <th></th>\n",
       "      <th>Category</th>\n",
       "      <th>DayOfWeek</th>\n",
       "      <th>X</th>\n",
       "      <th>Y</th>\n",
       "      <th>Year</th>\n",
       "      <th>Month</th>\n",
       "      <th>Day</th>\n",
       "      <th>Hours</th>\n",
       "      <th>Minutes</th>\n",
       "      <th>BAYVIEW</th>\n",
       "      <th>CENTRAL</th>\n",
       "      <th>INGLESIDE</th>\n",
       "      <th>MISSION</th>\n",
       "      <th>NORTHERN</th>\n",
       "      <th>PARK</th>\n",
       "      <th>RICHMOND</th>\n",
       "      <th>SOUTHERN</th>\n",
       "      <th>TARAVAL</th>\n",
       "      <th>TENDERLOIN</th>\n",
       "    </tr>\n",
       "  </thead>\n",
       "  <tbody>\n",
       "    <tr>\n",
       "      <th>0</th>\n",
       "      <td>WARRANTS</td>\n",
       "      <td>2</td>\n",
       "      <td>-122.425892</td>\n",
       "      <td>37.774599</td>\n",
       "      <td>2015</td>\n",
       "      <td>05</td>\n",
       "      <td>13</td>\n",
       "      <td>23</td>\n",
       "      <td>53</td>\n",
       "      <td>0</td>\n",
       "      <td>0</td>\n",
       "      <td>0</td>\n",
       "      <td>0</td>\n",
       "      <td>1</td>\n",
       "      <td>0</td>\n",
       "      <td>0</td>\n",
       "      <td>0</td>\n",
       "      <td>0</td>\n",
       "      <td>0</td>\n",
       "    </tr>\n",
       "    <tr>\n",
       "      <th>1</th>\n",
       "      <td>OTHER OFFENSES</td>\n",
       "      <td>2</td>\n",
       "      <td>-122.425892</td>\n",
       "      <td>37.774599</td>\n",
       "      <td>2015</td>\n",
       "      <td>05</td>\n",
       "      <td>13</td>\n",
       "      <td>23</td>\n",
       "      <td>53</td>\n",
       "      <td>0</td>\n",
       "      <td>0</td>\n",
       "      <td>0</td>\n",
       "      <td>0</td>\n",
       "      <td>1</td>\n",
       "      <td>0</td>\n",
       "      <td>0</td>\n",
       "      <td>0</td>\n",
       "      <td>0</td>\n",
       "      <td>0</td>\n",
       "    </tr>\n",
       "    <tr>\n",
       "      <th>2</th>\n",
       "      <td>OTHER OFFENSES</td>\n",
       "      <td>2</td>\n",
       "      <td>-122.424363</td>\n",
       "      <td>37.800414</td>\n",
       "      <td>2015</td>\n",
       "      <td>05</td>\n",
       "      <td>13</td>\n",
       "      <td>23</td>\n",
       "      <td>33</td>\n",
       "      <td>0</td>\n",
       "      <td>0</td>\n",
       "      <td>0</td>\n",
       "      <td>0</td>\n",
       "      <td>1</td>\n",
       "      <td>0</td>\n",
       "      <td>0</td>\n",
       "      <td>0</td>\n",
       "      <td>0</td>\n",
       "      <td>0</td>\n",
       "    </tr>\n",
       "    <tr>\n",
       "      <th>3</th>\n",
       "      <td>LARCENY/THEFT</td>\n",
       "      <td>2</td>\n",
       "      <td>-122.426995</td>\n",
       "      <td>37.800873</td>\n",
       "      <td>2015</td>\n",
       "      <td>05</td>\n",
       "      <td>13</td>\n",
       "      <td>23</td>\n",
       "      <td>30</td>\n",
       "      <td>0</td>\n",
       "      <td>0</td>\n",
       "      <td>0</td>\n",
       "      <td>0</td>\n",
       "      <td>1</td>\n",
       "      <td>0</td>\n",
       "      <td>0</td>\n",
       "      <td>0</td>\n",
       "      <td>0</td>\n",
       "      <td>0</td>\n",
       "    </tr>\n",
       "    <tr>\n",
       "      <th>4</th>\n",
       "      <td>LARCENY/THEFT</td>\n",
       "      <td>2</td>\n",
       "      <td>-122.438738</td>\n",
       "      <td>37.771541</td>\n",
       "      <td>2015</td>\n",
       "      <td>05</td>\n",
       "      <td>13</td>\n",
       "      <td>23</td>\n",
       "      <td>30</td>\n",
       "      <td>0</td>\n",
       "      <td>0</td>\n",
       "      <td>0</td>\n",
       "      <td>0</td>\n",
       "      <td>0</td>\n",
       "      <td>1</td>\n",
       "      <td>0</td>\n",
       "      <td>0</td>\n",
       "      <td>0</td>\n",
       "      <td>0</td>\n",
       "    </tr>\n",
       "  </tbody>\n",
       "</table>\n",
       "</div>"
      ],
      "text/plain": [
       "         Category  DayOfWeek           X          Y  Year Month Day Hours  \\\n",
       "0        WARRANTS          2 -122.425892  37.774599  2015    05  13    23   \n",
       "1  OTHER OFFENSES          2 -122.425892  37.774599  2015    05  13    23   \n",
       "2  OTHER OFFENSES          2 -122.424363  37.800414  2015    05  13    23   \n",
       "3   LARCENY/THEFT          2 -122.426995  37.800873  2015    05  13    23   \n",
       "4   LARCENY/THEFT          2 -122.438738  37.771541  2015    05  13    23   \n",
       "\n",
       "  Minutes  BAYVIEW  CENTRAL  INGLESIDE  MISSION  NORTHERN  PARK  RICHMOND  \\\n",
       "0      53        0        0          0        0         1     0         0   \n",
       "1      53        0        0          0        0         1     0         0   \n",
       "2      33        0        0          0        0         1     0         0   \n",
       "3      30        0        0          0        0         1     0         0   \n",
       "4      30        0        0          0        0         0     1         0   \n",
       "\n",
       "   SOUTHERN  TARAVAL  TENDERLOIN  \n",
       "0         0        0           0  \n",
       "1         0        0           0  \n",
       "2         0        0           0  \n",
       "3         0        0           0  \n",
       "4         0        0           0  "
      ]
     },
     "execution_count": 22,
     "metadata": {},
     "output_type": "execute_result"
    }
   ],
   "source": [
    "ls1=list(t['Dates'])\n",
    "for i in range(len(ls1)):\n",
    "    ls1[i]=ls1[i][:4:]\n",
    "t['Year']=ls1 \n",
    "\n",
    "ls1=list(t['Dates'])\n",
    "for i in range(len(ls1)):\n",
    "    ls1[i]=ls1[i][5:7:]\n",
    "t['Month']=ls1 \n",
    "\n",
    "ls1=list(t['Dates'])\n",
    "for i in range(len(ls1)):\n",
    "    ls1[i]=ls1[i][8:10:]\n",
    "t['Day']=ls1 \n",
    "\n",
    "ls1=list(t['Dates'])\n",
    "for i in range(len(ls1)):\n",
    "    ls1[i]=ls1[i][11:-6:]\n",
    "t['Hours']=ls1\n",
    "\n",
    "ls1=list(t['Dates'])\n",
    "for i in range(len(ls1)):\n",
    "    ls1[i]=ls1[i][-5:-3:]\n",
    "t['Minutes']=ls1\n",
    "\n",
    "t.drop('Dates',axis=1,inplace=True)\n",
    "t=pd.concat([t,pd.get_dummies(t['PdDistrict'])],axis=1)\n",
    "t.drop('PdDistrict',axis=1,inplace=True)\n",
    "t.head()"
   ]
  },
  {
   "cell_type": "code",
   "execution_count": 23,
   "id": "0bc92798",
   "metadata": {
    "execution": {
     "iopub.execute_input": "2022-06-17T05:29:10.494129Z",
     "iopub.status.busy": "2022-06-17T05:29:10.473134Z",
     "iopub.status.idle": "2022-06-17T05:29:12.841581Z",
     "shell.execute_reply": "2022-06-17T05:29:12.840986Z",
     "shell.execute_reply.started": "2021-08-06T03:58:42.362369Z"
    },
    "papermill": {
     "duration": 2.499207,
     "end_time": "2022-06-17T05:29:12.841768",
     "exception": false,
     "start_time": "2022-06-17T05:29:10.342561",
     "status": "completed"
    },
    "tags": []
   },
   "outputs": [
    {
     "data": {
      "text/html": [
       "<div>\n",
       "<style scoped>\n",
       "    .dataframe tbody tr th:only-of-type {\n",
       "        vertical-align: middle;\n",
       "    }\n",
       "\n",
       "    .dataframe tbody tr th {\n",
       "        vertical-align: top;\n",
       "    }\n",
       "\n",
       "    .dataframe thead th {\n",
       "        text-align: right;\n",
       "    }\n",
       "</style>\n",
       "<table border=\"1\" class=\"dataframe\">\n",
       "  <thead>\n",
       "    <tr style=\"text-align: right;\">\n",
       "      <th></th>\n",
       "      <th>Id</th>\n",
       "      <th>DayOfWeek</th>\n",
       "      <th>X</th>\n",
       "      <th>Y</th>\n",
       "      <th>Year</th>\n",
       "      <th>Month</th>\n",
       "      <th>Day</th>\n",
       "      <th>Hours</th>\n",
       "      <th>Minutes</th>\n",
       "      <th>BAYVIEW</th>\n",
       "      <th>CENTRAL</th>\n",
       "      <th>INGLESIDE</th>\n",
       "      <th>MISSION</th>\n",
       "      <th>NORTHERN</th>\n",
       "      <th>PARK</th>\n",
       "      <th>RICHMOND</th>\n",
       "      <th>SOUTHERN</th>\n",
       "      <th>TARAVAL</th>\n",
       "      <th>TENDERLOIN</th>\n",
       "    </tr>\n",
       "  </thead>\n",
       "  <tbody>\n",
       "    <tr>\n",
       "      <th>0</th>\n",
       "      <td>0</td>\n",
       "      <td>6</td>\n",
       "      <td>-122.399588</td>\n",
       "      <td>37.735051</td>\n",
       "      <td>2015</td>\n",
       "      <td>05</td>\n",
       "      <td>10</td>\n",
       "      <td>23</td>\n",
       "      <td>59</td>\n",
       "      <td>1</td>\n",
       "      <td>0</td>\n",
       "      <td>0</td>\n",
       "      <td>0</td>\n",
       "      <td>0</td>\n",
       "      <td>0</td>\n",
       "      <td>0</td>\n",
       "      <td>0</td>\n",
       "      <td>0</td>\n",
       "      <td>0</td>\n",
       "    </tr>\n",
       "    <tr>\n",
       "      <th>1</th>\n",
       "      <td>1</td>\n",
       "      <td>6</td>\n",
       "      <td>-122.391523</td>\n",
       "      <td>37.732432</td>\n",
       "      <td>2015</td>\n",
       "      <td>05</td>\n",
       "      <td>10</td>\n",
       "      <td>23</td>\n",
       "      <td>51</td>\n",
       "      <td>1</td>\n",
       "      <td>0</td>\n",
       "      <td>0</td>\n",
       "      <td>0</td>\n",
       "      <td>0</td>\n",
       "      <td>0</td>\n",
       "      <td>0</td>\n",
       "      <td>0</td>\n",
       "      <td>0</td>\n",
       "      <td>0</td>\n",
       "    </tr>\n",
       "    <tr>\n",
       "      <th>2</th>\n",
       "      <td>2</td>\n",
       "      <td>6</td>\n",
       "      <td>-122.426002</td>\n",
       "      <td>37.792212</td>\n",
       "      <td>2015</td>\n",
       "      <td>05</td>\n",
       "      <td>10</td>\n",
       "      <td>23</td>\n",
       "      <td>50</td>\n",
       "      <td>0</td>\n",
       "      <td>0</td>\n",
       "      <td>0</td>\n",
       "      <td>0</td>\n",
       "      <td>1</td>\n",
       "      <td>0</td>\n",
       "      <td>0</td>\n",
       "      <td>0</td>\n",
       "      <td>0</td>\n",
       "      <td>0</td>\n",
       "    </tr>\n",
       "    <tr>\n",
       "      <th>3</th>\n",
       "      <td>3</td>\n",
       "      <td>6</td>\n",
       "      <td>-122.437394</td>\n",
       "      <td>37.721412</td>\n",
       "      <td>2015</td>\n",
       "      <td>05</td>\n",
       "      <td>10</td>\n",
       "      <td>23</td>\n",
       "      <td>45</td>\n",
       "      <td>0</td>\n",
       "      <td>0</td>\n",
       "      <td>1</td>\n",
       "      <td>0</td>\n",
       "      <td>0</td>\n",
       "      <td>0</td>\n",
       "      <td>0</td>\n",
       "      <td>0</td>\n",
       "      <td>0</td>\n",
       "      <td>0</td>\n",
       "    </tr>\n",
       "    <tr>\n",
       "      <th>4</th>\n",
       "      <td>4</td>\n",
       "      <td>6</td>\n",
       "      <td>-122.437394</td>\n",
       "      <td>37.721412</td>\n",
       "      <td>2015</td>\n",
       "      <td>05</td>\n",
       "      <td>10</td>\n",
       "      <td>23</td>\n",
       "      <td>45</td>\n",
       "      <td>0</td>\n",
       "      <td>0</td>\n",
       "      <td>1</td>\n",
       "      <td>0</td>\n",
       "      <td>0</td>\n",
       "      <td>0</td>\n",
       "      <td>0</td>\n",
       "      <td>0</td>\n",
       "      <td>0</td>\n",
       "      <td>0</td>\n",
       "    </tr>\n",
       "  </tbody>\n",
       "</table>\n",
       "</div>"
      ],
      "text/plain": [
       "   Id  DayOfWeek           X          Y  Year Month Day Hours Minutes  \\\n",
       "0   0          6 -122.399588  37.735051  2015    05  10    23      59   \n",
       "1   1          6 -122.391523  37.732432  2015    05  10    23      51   \n",
       "2   2          6 -122.426002  37.792212  2015    05  10    23      50   \n",
       "3   3          6 -122.437394  37.721412  2015    05  10    23      45   \n",
       "4   4          6 -122.437394  37.721412  2015    05  10    23      45   \n",
       "\n",
       "   BAYVIEW  CENTRAL  INGLESIDE  MISSION  NORTHERN  PARK  RICHMOND  SOUTHERN  \\\n",
       "0        1        0          0        0         0     0         0         0   \n",
       "1        1        0          0        0         0     0         0         0   \n",
       "2        0        0          0        0         1     0         0         0   \n",
       "3        0        0          1        0         0     0         0         0   \n",
       "4        0        0          1        0         0     0         0         0   \n",
       "\n",
       "   TARAVAL  TENDERLOIN  \n",
       "0        0           0  \n",
       "1        0           0  \n",
       "2        0           0  \n",
       "3        0           0  \n",
       "4        0           0  "
      ]
     },
     "execution_count": 23,
     "metadata": {},
     "output_type": "execute_result"
    }
   ],
   "source": [
    "ls1=list(te['Dates'])\n",
    "for i in range(len(ls1)):\n",
    "    ls1[i]=ls1[i][:4:]\n",
    "te['Year']=ls1 \n",
    "\n",
    "ls1=list(te['Dates'])\n",
    "for i in range(len(ls1)):\n",
    "    ls1[i]=ls1[i][5:7:]\n",
    "te['Month']=ls1 \n",
    "\n",
    "ls1=list(te['Dates'])\n",
    "for i in range(len(ls1)):\n",
    "    ls1[i]=ls1[i][8:10:]\n",
    "te['Day']=ls1 \n",
    "\n",
    "ls1=list(te['Dates'])\n",
    "for i in range(len(ls1)):\n",
    "    ls1[i]=ls1[i][11:-6:]\n",
    "te['Hours']=ls1\n",
    "\n",
    "ls1=list(te['Dates'])\n",
    "for i in range(len(ls1)):\n",
    "    ls1[i]=ls1[i][-5:-3:]\n",
    "te['Minutes']=ls1\n",
    "\n",
    "te.drop('Dates',axis=1,inplace=True)\n",
    "te=pd.concat([te,pd.get_dummies(te['PdDistrict'])],axis=1)\n",
    "te.drop('PdDistrict',axis=1,inplace=True)\n",
    "te.head()"
   ]
  },
  {
   "cell_type": "code",
   "execution_count": 24,
   "id": "5a1349b7",
   "metadata": {
    "execution": {
     "iopub.execute_input": "2022-06-17T05:29:12.913544Z",
     "iopub.status.busy": "2022-06-17T05:29:12.912915Z",
     "iopub.status.idle": "2022-06-17T05:29:13.483551Z",
     "shell.execute_reply": "2022-06-17T05:29:13.483059Z",
     "shell.execute_reply.started": "2021-08-06T03:58:44.772904Z"
    },
    "papermill": {
     "duration": 0.611324,
     "end_time": "2022-06-17T05:29:13.483699",
     "exception": false,
     "start_time": "2022-06-17T05:29:12.872375",
     "status": "completed"
    },
    "tags": []
   },
   "outputs": [
    {
     "data": {
      "text/html": [
       "<div>\n",
       "<style scoped>\n",
       "    .dataframe tbody tr th:only-of-type {\n",
       "        vertical-align: middle;\n",
       "    }\n",
       "\n",
       "    .dataframe tbody tr th {\n",
       "        vertical-align: top;\n",
       "    }\n",
       "\n",
       "    .dataframe thead th {\n",
       "        text-align: right;\n",
       "    }\n",
       "</style>\n",
       "<table border=\"1\" class=\"dataframe\">\n",
       "  <thead>\n",
       "    <tr style=\"text-align: right;\">\n",
       "      <th></th>\n",
       "      <th>ARSON</th>\n",
       "      <th>ASSAULT</th>\n",
       "      <th>BAD CHECKS</th>\n",
       "      <th>BRIBERY</th>\n",
       "      <th>BURGLARY</th>\n",
       "      <th>DISORDERLY CONDUCT</th>\n",
       "      <th>DRIVING UNDER THE INFLUENCE</th>\n",
       "      <th>DRUG/NARCOTIC</th>\n",
       "      <th>DRUNKENNESS</th>\n",
       "      <th>EMBEZZLEMENT</th>\n",
       "      <th>...</th>\n",
       "      <th>SEX OFFENSES NON FORCIBLE</th>\n",
       "      <th>STOLEN PROPERTY</th>\n",
       "      <th>SUICIDE</th>\n",
       "      <th>SUSPICIOUS OCC</th>\n",
       "      <th>TREA</th>\n",
       "      <th>TRESPASS</th>\n",
       "      <th>VANDALISM</th>\n",
       "      <th>VEHICLE THEFT</th>\n",
       "      <th>WARRANTS</th>\n",
       "      <th>WEAPON LAWS</th>\n",
       "    </tr>\n",
       "  </thead>\n",
       "  <tbody>\n",
       "    <tr>\n",
       "      <th>0</th>\n",
       "      <td>0</td>\n",
       "      <td>0</td>\n",
       "      <td>0</td>\n",
       "      <td>0</td>\n",
       "      <td>0</td>\n",
       "      <td>0</td>\n",
       "      <td>0</td>\n",
       "      <td>0</td>\n",
       "      <td>0</td>\n",
       "      <td>0</td>\n",
       "      <td>...</td>\n",
       "      <td>0</td>\n",
       "      <td>0</td>\n",
       "      <td>0</td>\n",
       "      <td>0</td>\n",
       "      <td>0</td>\n",
       "      <td>0</td>\n",
       "      <td>0</td>\n",
       "      <td>0</td>\n",
       "      <td>1</td>\n",
       "      <td>0</td>\n",
       "    </tr>\n",
       "    <tr>\n",
       "      <th>1</th>\n",
       "      <td>0</td>\n",
       "      <td>0</td>\n",
       "      <td>0</td>\n",
       "      <td>0</td>\n",
       "      <td>0</td>\n",
       "      <td>0</td>\n",
       "      <td>0</td>\n",
       "      <td>0</td>\n",
       "      <td>0</td>\n",
       "      <td>0</td>\n",
       "      <td>...</td>\n",
       "      <td>0</td>\n",
       "      <td>0</td>\n",
       "      <td>0</td>\n",
       "      <td>0</td>\n",
       "      <td>0</td>\n",
       "      <td>0</td>\n",
       "      <td>0</td>\n",
       "      <td>0</td>\n",
       "      <td>0</td>\n",
       "      <td>0</td>\n",
       "    </tr>\n",
       "    <tr>\n",
       "      <th>2</th>\n",
       "      <td>0</td>\n",
       "      <td>0</td>\n",
       "      <td>0</td>\n",
       "      <td>0</td>\n",
       "      <td>0</td>\n",
       "      <td>0</td>\n",
       "      <td>0</td>\n",
       "      <td>0</td>\n",
       "      <td>0</td>\n",
       "      <td>0</td>\n",
       "      <td>...</td>\n",
       "      <td>0</td>\n",
       "      <td>0</td>\n",
       "      <td>0</td>\n",
       "      <td>0</td>\n",
       "      <td>0</td>\n",
       "      <td>0</td>\n",
       "      <td>0</td>\n",
       "      <td>0</td>\n",
       "      <td>0</td>\n",
       "      <td>0</td>\n",
       "    </tr>\n",
       "    <tr>\n",
       "      <th>3</th>\n",
       "      <td>0</td>\n",
       "      <td>0</td>\n",
       "      <td>0</td>\n",
       "      <td>0</td>\n",
       "      <td>0</td>\n",
       "      <td>0</td>\n",
       "      <td>0</td>\n",
       "      <td>0</td>\n",
       "      <td>0</td>\n",
       "      <td>0</td>\n",
       "      <td>...</td>\n",
       "      <td>0</td>\n",
       "      <td>0</td>\n",
       "      <td>0</td>\n",
       "      <td>0</td>\n",
       "      <td>0</td>\n",
       "      <td>0</td>\n",
       "      <td>0</td>\n",
       "      <td>0</td>\n",
       "      <td>0</td>\n",
       "      <td>0</td>\n",
       "    </tr>\n",
       "    <tr>\n",
       "      <th>4</th>\n",
       "      <td>0</td>\n",
       "      <td>0</td>\n",
       "      <td>0</td>\n",
       "      <td>0</td>\n",
       "      <td>0</td>\n",
       "      <td>0</td>\n",
       "      <td>0</td>\n",
       "      <td>0</td>\n",
       "      <td>0</td>\n",
       "      <td>0</td>\n",
       "      <td>...</td>\n",
       "      <td>0</td>\n",
       "      <td>0</td>\n",
       "      <td>0</td>\n",
       "      <td>0</td>\n",
       "      <td>0</td>\n",
       "      <td>0</td>\n",
       "      <td>0</td>\n",
       "      <td>0</td>\n",
       "      <td>0</td>\n",
       "      <td>0</td>\n",
       "    </tr>\n",
       "  </tbody>\n",
       "</table>\n",
       "<p>5 rows × 39 columns</p>\n",
       "</div>"
      ],
      "text/plain": [
       "   ARSON  ASSAULT  BAD CHECKS  BRIBERY  BURGLARY  DISORDERLY CONDUCT  \\\n",
       "0      0        0           0        0         0                   0   \n",
       "1      0        0           0        0         0                   0   \n",
       "2      0        0           0        0         0                   0   \n",
       "3      0        0           0        0         0                   0   \n",
       "4      0        0           0        0         0                   0   \n",
       "\n",
       "   DRIVING UNDER THE INFLUENCE  DRUG/NARCOTIC  DRUNKENNESS  EMBEZZLEMENT  ...  \\\n",
       "0                            0              0            0             0  ...   \n",
       "1                            0              0            0             0  ...   \n",
       "2                            0              0            0             0  ...   \n",
       "3                            0              0            0             0  ...   \n",
       "4                            0              0            0             0  ...   \n",
       "\n",
       "   SEX OFFENSES NON FORCIBLE  STOLEN PROPERTY  SUICIDE  SUSPICIOUS OCC  TREA  \\\n",
       "0                          0                0        0               0     0   \n",
       "1                          0                0        0               0     0   \n",
       "2                          0                0        0               0     0   \n",
       "3                          0                0        0               0     0   \n",
       "4                          0                0        0               0     0   \n",
       "\n",
       "   TRESPASS  VANDALISM  VEHICLE THEFT  WARRANTS  WEAPON LAWS  \n",
       "0         0          0              0         1            0  \n",
       "1         0          0              0         0            0  \n",
       "2         0          0              0         0            0  \n",
       "3         0          0              0         0            0  \n",
       "4         0          0              0         0            0  \n",
       "\n",
       "[5 rows x 39 columns]"
      ]
     },
     "execution_count": 24,
     "metadata": {},
     "output_type": "execute_result"
    }
   ],
   "source": [
    "X=t.drop(['Category'],axis=1)\n",
    "X=X.astype(float)\n",
    "y=pd.get_dummies(t['Category'])\n",
    "y.head()"
   ]
  },
  {
   "cell_type": "code",
   "execution_count": 25,
   "id": "0060d5cd",
   "metadata": {
    "execution": {
     "iopub.execute_input": "2022-06-17T05:29:13.548321Z",
     "iopub.status.busy": "2022-06-17T05:29:13.547715Z",
     "iopub.status.idle": "2022-06-17T05:29:13.947877Z",
     "shell.execute_reply": "2022-06-17T05:29:13.948365Z",
     "shell.execute_reply.started": "2021-08-06T03:58:45.356071Z"
    },
    "papermill": {
     "duration": 0.435309,
     "end_time": "2022-06-17T05:29:13.948554",
     "exception": false,
     "start_time": "2022-06-17T05:29:13.513245",
     "status": "completed"
    },
    "tags": []
   },
   "outputs": [
    {
     "name": "stdout",
     "output_type": "stream",
     "text": [
      "(790244, 18) (790244, 39)\n",
      "(87805, 18) (87805, 39)\n"
     ]
    }
   ],
   "source": [
    "from sklearn.model_selection import train_test_split\n",
    "X_train,X_test,y_train,y_test=train_test_split(X,y,test_size=0.1,random_state=42)\n",
    "print(X_train.shape,y_train.shape)\n",
    "print(X_test.shape,y_test.shape)"
   ]
  },
  {
   "cell_type": "code",
   "execution_count": 26,
   "id": "8b19dbe2",
   "metadata": {
    "execution": {
     "iopub.execute_input": "2022-06-17T05:29:14.013318Z",
     "iopub.status.busy": "2022-06-17T05:29:14.012735Z",
     "iopub.status.idle": "2022-06-17T05:29:14.019880Z",
     "shell.execute_reply": "2022-06-17T05:29:14.020351Z",
     "shell.execute_reply.started": "2021-08-06T03:58:45.788269Z"
    },
    "papermill": {
     "duration": 0.040421,
     "end_time": "2022-06-17T05:29:14.020536",
     "exception": false,
     "start_time": "2022-06-17T05:29:13.980115",
     "status": "completed"
    },
    "tags": []
   },
   "outputs": [
    {
     "data": {
      "text/plain": [
       "ARSON                          uint8\n",
       "ASSAULT                        uint8\n",
       "BAD CHECKS                     uint8\n",
       "BRIBERY                        uint8\n",
       "BURGLARY                       uint8\n",
       "DISORDERLY CONDUCT             uint8\n",
       "DRIVING UNDER THE INFLUENCE    uint8\n",
       "DRUG/NARCOTIC                  uint8\n",
       "DRUNKENNESS                    uint8\n",
       "EMBEZZLEMENT                   uint8\n",
       "EXTORTION                      uint8\n",
       "FAMILY OFFENSES                uint8\n",
       "FORGERY/COUNTERFEITING         uint8\n",
       "FRAUD                          uint8\n",
       "GAMBLING                       uint8\n",
       "KIDNAPPING                     uint8\n",
       "LARCENY/THEFT                  uint8\n",
       "LIQUOR LAWS                    uint8\n",
       "LOITERING                      uint8\n",
       "MISSING PERSON                 uint8\n",
       "NON-CRIMINAL                   uint8\n",
       "OTHER OFFENSES                 uint8\n",
       "PORNOGRAPHY/OBSCENE MAT        uint8\n",
       "PROSTITUTION                   uint8\n",
       "RECOVERED VEHICLE              uint8\n",
       "ROBBERY                        uint8\n",
       "RUNAWAY                        uint8\n",
       "SECONDARY CODES                uint8\n",
       "SEX OFFENSES FORCIBLE          uint8\n",
       "SEX OFFENSES NON FORCIBLE      uint8\n",
       "STOLEN PROPERTY                uint8\n",
       "SUICIDE                        uint8\n",
       "SUSPICIOUS OCC                 uint8\n",
       "TREA                           uint8\n",
       "TRESPASS                       uint8\n",
       "VANDALISM                      uint8\n",
       "VEHICLE THEFT                  uint8\n",
       "WARRANTS                       uint8\n",
       "WEAPON LAWS                    uint8\n",
       "dtype: object"
      ]
     },
     "execution_count": 26,
     "metadata": {},
     "output_type": "execute_result"
    }
   ],
   "source": [
    "y.dtypes"
   ]
  },
  {
   "cell_type": "code",
   "execution_count": 27,
   "id": "ac70ddb4",
   "metadata": {
    "execution": {
     "iopub.execute_input": "2022-06-17T05:29:14.082970Z",
     "iopub.status.busy": "2022-06-17T05:29:14.082323Z",
     "iopub.status.idle": "2022-06-17T05:29:20.723745Z",
     "shell.execute_reply": "2022-06-17T05:29:20.724196Z",
     "shell.execute_reply.started": "2021-08-06T03:58:45.79939Z"
    },
    "papermill": {
     "duration": 6.674525,
     "end_time": "2022-06-17T05:29:20.724379",
     "exception": false,
     "start_time": "2022-06-17T05:29:14.049854",
     "status": "completed"
    },
    "tags": []
   },
   "outputs": [
    {
     "name": "stdout",
     "output_type": "stream",
     "text": [
      "Model: \"sequential\"\n",
      "_________________________________________________________________\n",
      "Layer (type)                 Output Shape              Param #   \n",
      "=================================================================\n",
      "dense (Dense)                (None, 128)               2432      \n",
      "_________________________________________________________________\n",
      "dense_1 (Dense)              (None, 128)               16512     \n",
      "_________________________________________________________________\n",
      "dense_2 (Dense)              (None, 64)                8256      \n",
      "_________________________________________________________________\n",
      "dense_3 (Dense)              (None, 64)                4160      \n",
      "_________________________________________________________________\n",
      "dense_4 (Dense)              (None, 64)                4160      \n",
      "_________________________________________________________________\n",
      "dense_5 (Dense)              (None, 64)                4160      \n",
      "_________________________________________________________________\n",
      "dense_6 (Dense)              (None, 39)                2535      \n",
      "=================================================================\n",
      "Total params: 42,215\n",
      "Trainable params: 42,215\n",
      "Non-trainable params: 0\n",
      "_________________________________________________________________\n"
     ]
    }
   ],
   "source": [
    "from tensorflow import keras\n",
    "\n",
    "from keras.models import Sequential\n",
    "from keras.layers import Dense,Activation\n",
    "\n",
    "model=Sequential()\n",
    "model.add(Dense(128,input_shape=(X.shape[1],)))\n",
    "model.add(Dense(128,activation='relu'))\n",
    "model.add(Dense(64,activation='relu'))\n",
    "model.add(Dense(64,activation='relu'))\n",
    "model.add(Dense(64,activation='relu'))\n",
    "model.add(Dense(64,activation='relu'))\n",
    "model.add(Dense(39,activation='softmax'))\n",
    "model.summary()\n",
    "\n"
   ]
  },
  {
   "cell_type": "code",
   "execution_count": 28,
   "id": "2fc171f1",
   "metadata": {
    "execution": {
     "iopub.execute_input": "2022-06-17T05:29:20.796596Z",
     "iopub.status.busy": "2022-06-17T05:29:20.793878Z",
     "iopub.status.idle": "2022-06-17T05:35:27.000416Z",
     "shell.execute_reply": "2022-06-17T05:35:27.000932Z",
     "shell.execute_reply.started": "2021-08-06T03:58:51.860822Z"
    },
    "papermill": {
     "duration": 366.246064,
     "end_time": "2022-06-17T05:35:27.001130",
     "exception": false,
     "start_time": "2022-06-17T05:29:20.755066",
     "status": "completed"
    },
    "tags": []
   },
   "outputs": [
    {
     "name": "stdout",
     "output_type": "stream",
     "text": [
      "Epoch 1/10\n",
      "24696/24696 - 37s - loss: 2.6713 - accuracy: 0.2130 - val_loss: 2.6120 - val_accuracy: 0.2240\n",
      "Epoch 2/10\n",
      "24696/24696 - 37s - loss: 2.5929 - accuracy: 0.2288 - val_loss: 2.5771 - val_accuracy: 0.2296\n",
      "Epoch 3/10\n",
      "24696/24696 - 36s - loss: 2.5894 - accuracy: 0.2277 - val_loss: 2.5800 - val_accuracy: 0.2322\n",
      "Epoch 4/10\n",
      "24696/24696 - 37s - loss: 2.5687 - accuracy: 0.2333 - val_loss: 2.5627 - val_accuracy: 0.2359\n",
      "Epoch 5/10\n",
      "24696/24696 - 37s - loss: 2.5853 - accuracy: 0.2284 - val_loss: 2.5764 - val_accuracy: 0.2336\n",
      "Epoch 6/10\n",
      "24696/24696 - 36s - loss: 2.5757 - accuracy: 0.2316 - val_loss: 2.5669 - val_accuracy: 0.2336\n",
      "Epoch 7/10\n",
      "24696/24696 - 36s - loss: 2.5788 - accuracy: 0.2310 - val_loss: 2.5763 - val_accuracy: 0.2343\n",
      "Epoch 8/10\n",
      "24696/24696 - 37s - loss: 2.5690 - accuracy: 0.2353 - val_loss: 2.5602 - val_accuracy: 0.2366\n",
      "Epoch 9/10\n",
      "24696/24696 - 36s - loss: 2.5905 - accuracy: 0.2266 - val_loss: 2.7013 - val_accuracy: 0.2106\n",
      "Epoch 10/10\n",
      "24696/24696 - 37s - loss: 2.5878 - accuracy: 0.2303 - val_loss: 2.5758 - val_accuracy: 0.2287\n"
     ]
    }
   ],
   "source": [
    "model.compile(optimizer='adam',\n",
    "             loss='categorical_crossentropy',\n",
    "             metrics=['accuracy'])\n",
    "\n",
    "train=model.fit(X_train,y_train, \n",
    "         batch_size=32,\n",
    "         epochs=10,\n",
    "         verbose=2,\n",
    "         validation_data=(X_test,y_test))\n",
    "\n"
   ]
  },
  {
   "cell_type": "code",
   "execution_count": 29,
   "id": "b5570fe1",
   "metadata": {
    "execution": {
     "iopub.execute_input": "2022-06-17T05:35:27.155732Z",
     "iopub.status.busy": "2022-06-17T05:35:27.119573Z",
     "iopub.status.idle": "2022-06-17T05:35:27.600722Z",
     "shell.execute_reply": "2022-06-17T05:35:27.600083Z",
     "shell.execute_reply.started": "2021-08-06T04:04:55.950096Z"
    },
    "papermill": {
     "duration": 0.558689,
     "end_time": "2022-06-17T05:35:27.600876",
     "exception": false,
     "start_time": "2022-06-17T05:35:27.042187",
     "status": "completed"
    },
    "tags": []
   },
   "outputs": [
    {
     "data": {
      "text/plain": [
       "DayOfWeek     float64\n",
       "X             float64\n",
       "Y             float64\n",
       "Year          float64\n",
       "Month         float64\n",
       "Day           float64\n",
       "Hours         float64\n",
       "Minutes       float64\n",
       "BAYVIEW       float64\n",
       "CENTRAL       float64\n",
       "INGLESIDE     float64\n",
       "MISSION       float64\n",
       "NORTHERN      float64\n",
       "PARK          float64\n",
       "RICHMOND      float64\n",
       "SOUTHERN      float64\n",
       "TARAVAL       float64\n",
       "TENDERLOIN    float64\n",
       "dtype: object"
      ]
     },
     "execution_count": 29,
     "metadata": {},
     "output_type": "execute_result"
    }
   ],
   "source": [
    "test=te.drop(['Id'],axis=1)\n",
    "test=test.astype(float)\n",
    "test.dtypes"
   ]
  },
  {
   "cell_type": "code",
   "execution_count": 30,
   "id": "c15401db",
   "metadata": {
    "execution": {
     "iopub.execute_input": "2022-06-17T05:35:27.675810Z",
     "iopub.status.busy": "2022-06-17T05:35:27.674881Z",
     "iopub.status.idle": "2022-06-17T05:35:45.284757Z",
     "shell.execute_reply": "2022-06-17T05:35:45.284240Z",
     "shell.execute_reply.started": "2021-08-06T04:04:56.468832Z"
    },
    "papermill": {
     "duration": 17.649603,
     "end_time": "2022-06-17T05:35:45.284905",
     "exception": false,
     "start_time": "2022-06-17T05:35:27.635302",
     "status": "completed"
    },
    "tags": []
   },
   "outputs": [
    {
     "data": {
      "text/plain": [
       "array([[0, 0, 0, ..., 0, 0, 0],\n",
       "       [0, 0, 0, ..., 0, 0, 0],\n",
       "       [0, 0, 0, ..., 0, 0, 0],\n",
       "       ...,\n",
       "       [0, 0, 0, ..., 0, 0, 0],\n",
       "       [0, 0, 0, ..., 0, 0, 0],\n",
       "       [0, 0, 0, ..., 0, 0, 0]], dtype=int32)"
      ]
     },
     "execution_count": 30,
     "metadata": {},
     "output_type": "execute_result"
    }
   ],
   "source": [
    "pred=model.predict(test)\n",
    "\n",
    "m = np.max(pred, axis=1).reshape(-1, 1)\n",
    "predicted = np.array((pred == m), dtype='int32')\n",
    "predicted\n",
    "\n"
   ]
  },
  {
   "cell_type": "code",
   "execution_count": 31,
   "id": "9354d164",
   "metadata": {
    "execution": {
     "iopub.execute_input": "2022-06-17T05:35:45.360815Z",
     "iopub.status.busy": "2022-06-17T05:35:45.360073Z",
     "iopub.status.idle": "2022-06-17T05:35:47.117376Z",
     "shell.execute_reply": "2022-06-17T05:35:47.117909Z",
     "shell.execute_reply.started": "2021-08-06T04:05:12.561882Z"
    },
    "papermill": {
     "duration": 1.798377,
     "end_time": "2022-06-17T05:35:47.118084",
     "exception": false,
     "start_time": "2022-06-17T05:35:45.319707",
     "status": "completed"
    },
    "tags": []
   },
   "outputs": [
    {
     "name": "stdout",
     "output_type": "stream",
     "text": [
      "['ARSON', 'ASSAULT', 'BAD CHECKS', 'BRIBERY', 'BURGLARY', 'DISORDERLY CONDUCT', 'DRIVING UNDER THE INFLUENCE', 'DRUG/NARCOTIC', 'DRUNKENNESS', 'EMBEZZLEMENT', 'EXTORTION', 'FAMILY OFFENSES', 'FORGERY/COUNTERFEITING', 'FRAUD', 'GAMBLING', 'KIDNAPPING', 'LARCENY/THEFT', 'LIQUOR LAWS', 'LOITERING', 'MISSING PERSON', 'NON-CRIMINAL', 'OTHER OFFENSES', 'PORNOGRAPHY/OBSCENE MAT', 'PROSTITUTION', 'RECOVERED VEHICLE', 'ROBBERY', 'RUNAWAY', 'SECONDARY CODES', 'SEX OFFENSES FORCIBLE', 'SEX OFFENSES NON FORCIBLE', 'STOLEN PROPERTY', 'SUICIDE', 'SUSPICIOUS OCC', 'TREA', 'TRESPASS', 'VANDALISM', 'VEHICLE THEFT', 'WARRANTS', 'WEAPON LAWS']\n"
     ]
    }
   ],
   "source": [
    "sample=pd.read_csv('/kaggle/input/sf-crime/sampleSubmission.csv.zip')\n",
    "col_names=list(sample.columns)\n",
    "col_names.remove('Id')\n",
    "print(col_names)"
   ]
  },
  {
   "cell_type": "code",
   "execution_count": 32,
   "id": "88d834c1",
   "metadata": {
    "execution": {
     "iopub.execute_input": "2022-06-17T05:35:47.198689Z",
     "iopub.status.busy": "2022-06-17T05:35:47.197410Z",
     "iopub.status.idle": "2022-06-17T05:35:47.701332Z",
     "shell.execute_reply": "2022-06-17T05:35:47.701895Z",
     "shell.execute_reply.started": "2021-08-06T04:05:14.349223Z"
    },
    "papermill": {
     "duration": 0.547198,
     "end_time": "2022-06-17T05:35:47.702060",
     "exception": false,
     "start_time": "2022-06-17T05:35:47.154862",
     "status": "completed"
    },
    "tags": []
   },
   "outputs": [
    {
     "data": {
      "text/html": [
       "<div>\n",
       "<style scoped>\n",
       "    .dataframe tbody tr th:only-of-type {\n",
       "        vertical-align: middle;\n",
       "    }\n",
       "\n",
       "    .dataframe tbody tr th {\n",
       "        vertical-align: top;\n",
       "    }\n",
       "\n",
       "    .dataframe thead th {\n",
       "        text-align: right;\n",
       "    }\n",
       "</style>\n",
       "<table border=\"1\" class=\"dataframe\">\n",
       "  <thead>\n",
       "    <tr style=\"text-align: right;\">\n",
       "      <th></th>\n",
       "      <th>Id</th>\n",
       "      <th>ARSON</th>\n",
       "      <th>ASSAULT</th>\n",
       "      <th>BAD CHECKS</th>\n",
       "      <th>BRIBERY</th>\n",
       "      <th>BURGLARY</th>\n",
       "      <th>DISORDERLY CONDUCT</th>\n",
       "      <th>DRIVING UNDER THE INFLUENCE</th>\n",
       "      <th>DRUG/NARCOTIC</th>\n",
       "      <th>DRUNKENNESS</th>\n",
       "      <th>...</th>\n",
       "      <th>SEX OFFENSES NON FORCIBLE</th>\n",
       "      <th>STOLEN PROPERTY</th>\n",
       "      <th>SUICIDE</th>\n",
       "      <th>SUSPICIOUS OCC</th>\n",
       "      <th>TREA</th>\n",
       "      <th>TRESPASS</th>\n",
       "      <th>VANDALISM</th>\n",
       "      <th>VEHICLE THEFT</th>\n",
       "      <th>WARRANTS</th>\n",
       "      <th>WEAPON LAWS</th>\n",
       "    </tr>\n",
       "  </thead>\n",
       "  <tbody>\n",
       "    <tr>\n",
       "      <th>0</th>\n",
       "      <td>0</td>\n",
       "      <td>0</td>\n",
       "      <td>0</td>\n",
       "      <td>0</td>\n",
       "      <td>0</td>\n",
       "      <td>0</td>\n",
       "      <td>0</td>\n",
       "      <td>0</td>\n",
       "      <td>0</td>\n",
       "      <td>0</td>\n",
       "      <td>...</td>\n",
       "      <td>0</td>\n",
       "      <td>0</td>\n",
       "      <td>0</td>\n",
       "      <td>0</td>\n",
       "      <td>0</td>\n",
       "      <td>0</td>\n",
       "      <td>0</td>\n",
       "      <td>0</td>\n",
       "      <td>0</td>\n",
       "      <td>0</td>\n",
       "    </tr>\n",
       "    <tr>\n",
       "      <th>1</th>\n",
       "      <td>1</td>\n",
       "      <td>0</td>\n",
       "      <td>0</td>\n",
       "      <td>0</td>\n",
       "      <td>0</td>\n",
       "      <td>0</td>\n",
       "      <td>0</td>\n",
       "      <td>0</td>\n",
       "      <td>0</td>\n",
       "      <td>0</td>\n",
       "      <td>...</td>\n",
       "      <td>0</td>\n",
       "      <td>0</td>\n",
       "      <td>0</td>\n",
       "      <td>0</td>\n",
       "      <td>0</td>\n",
       "      <td>0</td>\n",
       "      <td>0</td>\n",
       "      <td>0</td>\n",
       "      <td>0</td>\n",
       "      <td>0</td>\n",
       "    </tr>\n",
       "    <tr>\n",
       "      <th>2</th>\n",
       "      <td>2</td>\n",
       "      <td>0</td>\n",
       "      <td>0</td>\n",
       "      <td>0</td>\n",
       "      <td>0</td>\n",
       "      <td>0</td>\n",
       "      <td>0</td>\n",
       "      <td>0</td>\n",
       "      <td>0</td>\n",
       "      <td>0</td>\n",
       "      <td>...</td>\n",
       "      <td>0</td>\n",
       "      <td>0</td>\n",
       "      <td>0</td>\n",
       "      <td>0</td>\n",
       "      <td>0</td>\n",
       "      <td>0</td>\n",
       "      <td>0</td>\n",
       "      <td>0</td>\n",
       "      <td>0</td>\n",
       "      <td>0</td>\n",
       "    </tr>\n",
       "    <tr>\n",
       "      <th>3</th>\n",
       "      <td>3</td>\n",
       "      <td>0</td>\n",
       "      <td>0</td>\n",
       "      <td>0</td>\n",
       "      <td>0</td>\n",
       "      <td>0</td>\n",
       "      <td>0</td>\n",
       "      <td>0</td>\n",
       "      <td>0</td>\n",
       "      <td>0</td>\n",
       "      <td>...</td>\n",
       "      <td>0</td>\n",
       "      <td>0</td>\n",
       "      <td>0</td>\n",
       "      <td>0</td>\n",
       "      <td>0</td>\n",
       "      <td>0</td>\n",
       "      <td>0</td>\n",
       "      <td>0</td>\n",
       "      <td>0</td>\n",
       "      <td>0</td>\n",
       "    </tr>\n",
       "    <tr>\n",
       "      <th>4</th>\n",
       "      <td>4</td>\n",
       "      <td>0</td>\n",
       "      <td>0</td>\n",
       "      <td>0</td>\n",
       "      <td>0</td>\n",
       "      <td>0</td>\n",
       "      <td>0</td>\n",
       "      <td>0</td>\n",
       "      <td>0</td>\n",
       "      <td>0</td>\n",
       "      <td>...</td>\n",
       "      <td>0</td>\n",
       "      <td>0</td>\n",
       "      <td>0</td>\n",
       "      <td>0</td>\n",
       "      <td>0</td>\n",
       "      <td>0</td>\n",
       "      <td>0</td>\n",
       "      <td>0</td>\n",
       "      <td>0</td>\n",
       "      <td>0</td>\n",
       "    </tr>\n",
       "  </tbody>\n",
       "</table>\n",
       "<p>5 rows × 40 columns</p>\n",
       "</div>"
      ],
      "text/plain": [
       "   Id  ARSON  ASSAULT  BAD CHECKS  BRIBERY  BURGLARY  DISORDERLY CONDUCT  \\\n",
       "0   0      0        0           0        0         0                   0   \n",
       "1   1      0        0           0        0         0                   0   \n",
       "2   2      0        0           0        0         0                   0   \n",
       "3   3      0        0           0        0         0                   0   \n",
       "4   4      0        0           0        0         0                   0   \n",
       "\n",
       "   DRIVING UNDER THE INFLUENCE  DRUG/NARCOTIC  DRUNKENNESS  ...  \\\n",
       "0                            0              0            0  ...   \n",
       "1                            0              0            0  ...   \n",
       "2                            0              0            0  ...   \n",
       "3                            0              0            0  ...   \n",
       "4                            0              0            0  ...   \n",
       "\n",
       "   SEX OFFENSES NON FORCIBLE  STOLEN PROPERTY  SUICIDE  SUSPICIOUS OCC  TREA  \\\n",
       "0                          0                0        0               0     0   \n",
       "1                          0                0        0               0     0   \n",
       "2                          0                0        0               0     0   \n",
       "3                          0                0        0               0     0   \n",
       "4                          0                0        0               0     0   \n",
       "\n",
       "   TRESPASS  VANDALISM  VEHICLE THEFT  WARRANTS  WEAPON LAWS  \n",
       "0         0          0              0         0            0  \n",
       "1         0          0              0         0            0  \n",
       "2         0          0              0         0            0  \n",
       "3         0          0              0         0            0  \n",
       "4         0          0              0         0            0  \n",
       "\n",
       "[5 rows x 40 columns]"
      ]
     },
     "execution_count": 32,
     "metadata": {},
     "output_type": "execute_result"
    }
   ],
   "source": [
    "submission = pd.DataFrame()\n",
    "submission['Id']=te['Id']\n",
    "for i, entry in enumerate(col_names):\n",
    "    submission[entry] = predicted[:,i]\n",
    "\n",
    "submission.head()\n",
    "\n"
   ]
  },
  {
   "cell_type": "code",
   "execution_count": 33,
   "id": "d8620d28",
   "metadata": {
    "execution": {
     "iopub.execute_input": "2022-06-17T05:35:47.778394Z",
     "iopub.status.busy": "2022-06-17T05:35:47.777532Z",
     "iopub.status.idle": "2022-06-17T05:35:53.252678Z",
     "shell.execute_reply": "2022-06-17T05:35:53.253123Z",
     "shell.execute_reply.started": "2021-08-06T04:05:14.839098Z"
    },
    "papermill": {
     "duration": 5.514348,
     "end_time": "2022-06-17T05:35:53.253306",
     "exception": false,
     "start_time": "2022-06-17T05:35:47.738958",
     "status": "completed"
    },
    "tags": []
   },
   "outputs": [],
   "source": [
    "submission.to_csv('../working/submission.csv', index=False)"
   ]
  },
  {
   "cell_type": "code",
   "execution_count": null,
   "id": "54705528",
   "metadata": {
    "papermill": {
     "duration": 0.035593,
     "end_time": "2022-06-17T05:35:53.325989",
     "exception": false,
     "start_time": "2022-06-17T05:35:53.290396",
     "status": "completed"
    },
    "tags": []
   },
   "outputs": [],
   "source": []
  }
 ],
 "metadata": {
  "kernelspec": {
   "display_name": "Python 3",
   "language": "python",
   "name": "python3"
  },
  "language_info": {
   "codemirror_mode": {
    "name": "ipython",
    "version": 3
   },
   "file_extension": ".py",
   "mimetype": "text/x-python",
   "name": "python",
   "nbconvert_exporter": "python",
   "pygments_lexer": "ipython3",
   "version": "3.7.10"
  },
  "papermill": {
   "default_parameters": {},
   "duration": 425.921243,
   "end_time": "2022-06-17T05:35:55.364273",
   "environment_variables": {},
   "exception": null,
   "input_path": "__notebook__.ipynb",
   "output_path": "__notebook__.ipynb",
   "parameters": {},
   "start_time": "2022-06-17T05:28:49.443030",
   "version": "2.3.3"
  }
 },
 "nbformat": 4,
 "nbformat_minor": 5
}
