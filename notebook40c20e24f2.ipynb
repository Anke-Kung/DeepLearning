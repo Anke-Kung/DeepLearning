{
 "cells": [
  {
   "cell_type": "code",
   "execution_count": 1,
   "id": "3b46093f",
   "metadata": {
    "_cell_guid": "b1076dfc-b9ad-4769-8c92-a6c4dae69d19",
    "_uuid": "8f2839f25d086af736a60e9eeb907d3b93b6e0e5",
    "execution": {
     "iopub.execute_input": "2022-06-10T13:18:48.790778Z",
     "iopub.status.busy": "2022-06-10T13:18:48.786955Z",
     "iopub.status.idle": "2022-06-10T13:18:48.802556Z",
     "shell.execute_reply": "2022-06-10T13:18:48.801597Z"
    },
    "papermill": {
     "duration": 0.02318,
     "end_time": "2022-06-10T13:18:48.805020",
     "exception": false,
     "start_time": "2022-06-10T13:18:48.781840",
     "status": "completed"
    },
    "tags": []
   },
   "outputs": [
    {
     "name": "stdout",
     "output_type": "stream",
     "text": [
      "/kaggle/input/lish-moa/train_targets_scored.csv\n",
      "/kaggle/input/lish-moa/sample_submission.csv\n",
      "/kaggle/input/lish-moa/train_drug.csv\n",
      "/kaggle/input/lish-moa/train_targets_nonscored.csv\n",
      "/kaggle/input/lish-moa/train_features.csv\n",
      "/kaggle/input/lish-moa/test_features.csv\n"
     ]
    }
   ],
   "source": [
    "import numpy as np \n",
    "import pandas as pd \n",
    "\n",
    "import os\n",
    "for dirname, _, filenames in os.walk('/kaggle/input'):\n",
    "    for filename in filenames:\n",
    "        print(os.path.join(dirname, filename))"
   ]
  },
  {
   "cell_type": "code",
   "execution_count": 2,
   "id": "4ecbddaa",
   "metadata": {
    "execution": {
     "iopub.execute_input": "2022-06-10T13:18:48.815786Z",
     "iopub.status.busy": "2022-06-10T13:18:48.814867Z",
     "iopub.status.idle": "2022-06-10T13:18:50.077268Z",
     "shell.execute_reply": "2022-06-10T13:18:50.076292Z"
    },
    "papermill": {
     "duration": 1.269004,
     "end_time": "2022-06-10T13:18:50.079613",
     "exception": false,
     "start_time": "2022-06-10T13:18:48.810609",
     "status": "completed"
    },
    "tags": []
   },
   "outputs": [],
   "source": [
    "import pandas as pd\n",
    "import numpy as np\n",
    "from tqdm import tqdm\n",
    "\n",
    "from sklearn.metrics import log_loss\n",
    "from sklearn.feature_selection import VarianceThreshold\n",
    "from sklearn.preprocessing import StandardScaler\n",
    "from sklearn.decomposition import PCA\n",
    "from sklearn.model_selection import KFold\n",
    "from sklearn.linear_model import LogisticRegression"
   ]
  },
  {
   "cell_type": "code",
   "execution_count": 3,
   "id": "7556db71",
   "metadata": {
    "execution": {
     "iopub.execute_input": "2022-06-10T13:18:50.087119Z",
     "iopub.status.busy": "2022-06-10T13:18:50.086390Z",
     "iopub.status.idle": "2022-06-10T13:18:56.186187Z",
     "shell.execute_reply": "2022-06-10T13:18:56.185202Z"
    },
    "papermill": {
     "duration": 6.106117,
     "end_time": "2022-06-10T13:18:56.188647",
     "exception": false,
     "start_time": "2022-06-10T13:18:50.082530",
     "status": "completed"
    },
    "tags": []
   },
   "outputs": [],
   "source": [
    "train_features = pd.read_csv('../input/lish-moa/train_features.csv')\n",
    "train_targets_scored  = pd.read_csv('../input/lish-moa/train_targets_scored.csv')\n",
    "test_features = pd.read_csv('../input/lish-moa/test_features.csv')\n",
    "s_submission = pd.read_csv('../input/lish-moa/sample_submission.csv')"
   ]
  },
  {
   "cell_type": "code",
   "execution_count": 4,
   "id": "ce50df5f",
   "metadata": {
    "execution": {
     "iopub.execute_input": "2022-06-10T13:18:56.196634Z",
     "iopub.status.busy": "2022-06-10T13:18:56.196178Z",
     "iopub.status.idle": "2022-06-10T13:18:56.202453Z",
     "shell.execute_reply": "2022-06-10T13:18:56.200844Z"
    },
    "papermill": {
     "duration": 0.012811,
     "end_time": "2022-06-10T13:18:56.204527",
     "exception": false,
     "start_time": "2022-06-10T13:18:56.191716",
     "status": "completed"
    },
    "tags": []
   },
   "outputs": [],
   "source": [
    "def average_log_loss(y_true, y_pred):\n",
    "    print(y_true.shape, y_pred.shape)\n",
    "    num_samples, num_outputs = y_true.shape\n",
    "    loss = 0.00\n",
    "    for i in range(num_outputs):\n",
    "        loss += log_loss(y_true[:, i], y_pred[:, i], labels=[0, 1])\n",
    "    loss /= num_outputs\n",
    "    return loss"
   ]
  },
  {
   "cell_type": "code",
   "execution_count": 5,
   "id": "85a7a50f",
   "metadata": {
    "execution": {
     "iopub.execute_input": "2022-06-10T13:18:56.212212Z",
     "iopub.status.busy": "2022-06-10T13:18:56.211831Z",
     "iopub.status.idle": "2022-06-10T13:18:56.217983Z",
     "shell.execute_reply": "2022-06-10T13:18:56.217243Z"
    },
    "papermill": {
     "duration": 0.012206,
     "end_time": "2022-06-10T13:18:56.219829",
     "exception": false,
     "start_time": "2022-06-10T13:18:56.207623",
     "status": "completed"
    },
    "tags": []
   },
   "outputs": [],
   "source": [
    "def preprocess(df):\n",
    "    df = df.drop(columns=['sig_id'])\n",
    "    df.cp_dose = df.cp_dose.map({'D1': -1, 'D2': 1})\n",
    "    df.cp_time = df.cp_time.map({24: -1, 48: 0, 72: 1})\n",
    "    df.cp_type = df.cp_type.map({'trt_cp': -1, 'ctl_vehicle': 1})\n",
    "    return df"
   ]
  },
  {
   "cell_type": "code",
   "execution_count": 6,
   "id": "729752a1",
   "metadata": {
    "execution": {
     "iopub.execute_input": "2022-06-10T13:18:56.228100Z",
     "iopub.status.busy": "2022-06-10T13:18:56.226993Z",
     "iopub.status.idle": "2022-06-10T13:18:56.355060Z",
     "shell.execute_reply": "2022-06-10T13:18:56.353974Z"
    },
    "papermill": {
     "duration": 0.13482,
     "end_time": "2022-06-10T13:18:56.357788",
     "exception": false,
     "start_time": "2022-06-10T13:18:56.222968",
     "status": "completed"
    },
    "tags": []
   },
   "outputs": [],
   "source": [
    "train_features = preprocess(train_features)\n",
    "train_targets_scored = train_targets_scored.drop(columns=['sig_id'])\n",
    "test_features = preprocess(test_features)\n",
    "\n",
    "targets_np = train_targets_scored.to_numpy()"
   ]
  },
  {
   "cell_type": "code",
   "execution_count": 7,
   "id": "aadb54dd",
   "metadata": {
    "execution": {
     "iopub.execute_input": "2022-06-10T13:18:56.365221Z",
     "iopub.status.busy": "2022-06-10T13:18:56.364818Z",
     "iopub.status.idle": "2022-06-10T13:19:00.015706Z",
     "shell.execute_reply": "2022-06-10T13:19:00.014618Z"
    },
    "papermill": {
     "duration": 3.658473,
     "end_time": "2022-06-10T13:19:00.019212",
     "exception": false,
     "start_time": "2022-06-10T13:18:56.360739",
     "status": "completed"
    },
    "tags": []
   },
   "outputs": [
    {
     "name": "stdout",
     "output_type": "stream",
     "text": [
      "Shape after scaler and PCA (23814, 103)\n"
     ]
    }
   ],
   "source": [
    "g_cols = [col for col in train_features.columns if col.startswith('g-')]\n",
    "c_cols = [col for col in train_features.columns if col.startswith('c-')]\n",
    "cp_cols = [col for col in train_features.columns if col.startswith('cp_')]\n",
    "\n",
    "def scaler_and_PCA(pca_num_components, train, test):\n",
    "    data = np.concatenate((train, test), axis=0)\n",
    "    n = train.shape[0]\n",
    "    \n",
    "    # variance threshold\n",
    "    selector = VarianceThreshold(threshold=0.8)\n",
    "    data = selector.fit_transform(data)\n",
    "    \n",
    "    # scale\n",
    "    scaler = StandardScaler()\n",
    "    scaled_data = scaler.fit_transform(data)\n",
    "\n",
    "    # PCA\n",
    "    pca = PCA(pca_num_components)\n",
    "    pca_data = pca.fit_transform(scaled_data)\n",
    "\n",
    "    train_trans = pca_data[:n, :]\n",
    "    test_trans = pca_data[n:, :]\n",
    "\n",
    "    return train_trans, test_trans\n",
    "\n",
    "\n",
    "train_X_g = train_features[g_cols].to_numpy()\n",
    "test_X_g = test_features[g_cols].to_numpy()\n",
    "train_X_g, test_X_g = scaler_and_PCA(80, train_X_g, test_X_g)\n",
    "\n",
    "train_X_c = train_features[c_cols].to_numpy()\n",
    "test_X_c = test_features[c_cols].to_numpy()\n",
    "train_X_c, test_X_c = scaler_and_PCA(20, train_X_c, test_X_c)\n",
    "\n",
    "features_np = np.concatenate((train_features[cp_cols].to_numpy(), train_X_g, train_X_c), axis=1)\n",
    "test_np = np.concatenate((test_features[cp_cols].to_numpy(), test_X_g, test_X_c), axis=1)\n",
    "print('Shape after scaler and PCA', features_np.shape)"
   ]
  },
  {
   "cell_type": "code",
   "execution_count": 8,
   "id": "86e80c2a",
   "metadata": {
    "execution": {
     "iopub.execute_input": "2022-06-10T13:19:00.033673Z",
     "iopub.status.busy": "2022-06-10T13:19:00.032720Z",
     "iopub.status.idle": "2022-06-10T13:23:53.656055Z",
     "shell.execute_reply": "2022-06-10T13:23:53.655033Z"
    },
    "papermill": {
     "duration": 293.63397,
     "end_time": "2022-06-10T13:23:53.659277",
     "exception": false,
     "start_time": "2022-06-10T13:19:00.025307",
     "status": "completed"
    },
    "tags": []
   },
   "outputs": [
    {
     "name": "stderr",
     "output_type": "stream",
     "text": [
      "100%|██████████| 206/206 [00:58<00:00,  3.54it/s]\n",
      "100%|██████████| 206/206 [00:00<00:00, 996.73it/s] \n"
     ]
    },
    {
     "name": "stdout",
     "output_type": "stream",
     "text": [
      "(4763, 206) (4763, 206)\n",
      "Log_loss 1 0.01649091835483895\n"
     ]
    },
    {
     "name": "stderr",
     "output_type": "stream",
     "text": [
      "100%|██████████| 206/206 [01:00<00:00,  3.43it/s]\n",
      "100%|██████████| 206/206 [00:00<00:00, 918.55it/s]\n"
     ]
    },
    {
     "name": "stdout",
     "output_type": "stream",
     "text": [
      "(4763, 206) (4763, 206)\n",
      "Log_loss 2 0.01668314475610082\n"
     ]
    },
    {
     "name": "stderr",
     "output_type": "stream",
     "text": [
      "100%|██████████| 206/206 [00:57<00:00,  3.56it/s]\n",
      "100%|██████████| 206/206 [00:00<00:00, 1052.86it/s]\n"
     ]
    },
    {
     "name": "stdout",
     "output_type": "stream",
     "text": [
      "(4763, 206) (4763, 206)\n",
      "Log_loss 3 0.016552801681052536\n"
     ]
    },
    {
     "name": "stderr",
     "output_type": "stream",
     "text": [
      "100%|██████████| 206/206 [00:59<00:00,  3.49it/s]\n",
      "100%|██████████| 206/206 [00:00<00:00, 983.55it/s] \n"
     ]
    },
    {
     "name": "stdout",
     "output_type": "stream",
     "text": [
      "(4763, 206) (4763, 206)\n",
      "Log_loss 4 0.016740139663352253\n"
     ]
    },
    {
     "name": "stderr",
     "output_type": "stream",
     "text": [
      "100%|██████████| 206/206 [00:55<00:00,  3.70it/s]\n",
      "100%|██████████| 206/206 [00:00<00:00, 1024.18it/s]\n"
     ]
    },
    {
     "name": "stdout",
     "output_type": "stream",
     "text": [
      "(4762, 206) (4762, 206)\n",
      "Log_loss 5 0.016826482064448\n",
      "Best loss is: 0.01649091835483895\n"
     ]
    }
   ],
   "source": [
    "best_model = None\n",
    "best_loss = 999999999999999999\n",
    "kf = KFold(n_splits=5)\n",
    "j = 1\n",
    "for train_indices, val_indices in kf.split(features_np):\n",
    "    X_train, Y_train = features_np[train_indices, :], targets_np[train_indices, :]\n",
    "    X_val, Y_val = features_np[val_indices, :], targets_np[val_indices, :]\n",
    "\n",
    "    all_categories = list(train_targets_scored.columns)\n",
    "    model_dict = {}\n",
    "    for i in tqdm(range(206)):\n",
    "        if Y_train[:, i].max() == 0:\n",
    "            model_dict[all_categories[i]] = logistic_model\n",
    "        else:\n",
    "            logistic_model = LogisticRegression(C=0.1, max_iter=1000, class_weight={0: 0.4, 1: 0.6})\n",
    "            logistic_model.fit(X_train, Y_train[:, i])\n",
    "            model_dict[all_categories[i]] = logistic_model\n",
    "    Y_pred = np.zeros(Y_val.shape)\n",
    "    i = 0\n",
    "    for category in tqdm(all_categories):\n",
    "        Y_pred[:, i] = np.copy(model_dict[category].predict_proba(X_val)[:, 1])\n",
    "        i += 1\n",
    "    cur_loss = average_log_loss(Y_val, Y_pred)\n",
    "    print('Log_loss', j, cur_loss)\n",
    "    if cur_loss < best_loss:\n",
    "        best_model = model_dict\n",
    "        best_loss = cur_loss\n",
    "    j += 1\n",
    "\n",
    "print('Best loss is:', best_loss)"
   ]
  },
  {
   "cell_type": "code",
   "execution_count": 9,
   "id": "d4716734",
   "metadata": {
    "execution": {
     "iopub.execute_input": "2022-06-10T13:23:53.768947Z",
     "iopub.status.busy": "2022-06-10T13:23:53.768582Z",
     "iopub.status.idle": "2022-06-10T13:23:55.301398Z",
     "shell.execute_reply": "2022-06-10T13:23:55.300119Z"
    },
    "papermill": {
     "duration": 1.589884,
     "end_time": "2022-06-10T13:23:55.303806",
     "exception": false,
     "start_time": "2022-06-10T13:23:53.713922",
     "status": "completed"
    },
    "tags": []
   },
   "outputs": [
    {
     "name": "stderr",
     "output_type": "stream",
     "text": [
      "100%|██████████| 206/206 [00:00<00:00, 1225.78it/s]\n"
     ]
    }
   ],
   "source": [
    "Y_res = s_submission.drop(columns=['sig_id']).to_numpy()\n",
    "i = 0\n",
    "all_categories = list(train_targets_scored.columns)\n",
    "for category in tqdm(all_categories):\n",
    "    Y_res[:, i] = np.copy(best_model[category].predict_proba(test_np)[:, 1])\n",
    "    i += 1\n",
    "# POSTPROCESS\n",
    "for i in range(test_np.shape[0]):\n",
    "    if test_np[i][0] == 1:\n",
    "        Y_res[i, :] = np.zeros(Y_res.shape[1])\n",
    "s_res = pd.DataFrame(Y_res, columns=all_categories)\n",
    "s_res = pd.concat([s_submission['sig_id'], s_res], axis=1)\n",
    "s_res.to_csv('submission.csv', index=False)"
   ]
  }
 ],
 "metadata": {
  "kernelspec": {
   "display_name": "Python 3",
   "language": "python",
   "name": "python3"
  },
  "language_info": {
   "codemirror_mode": {
    "name": "ipython",
    "version": 3
   },
   "file_extension": ".py",
   "mimetype": "text/x-python",
   "name": "python",
   "nbconvert_exporter": "python",
   "pygments_lexer": "ipython3",
   "version": "3.7.12"
  },
  "papermill": {
   "default_parameters": {},
   "duration": 316.481368,
   "end_time": "2022-06-10T13:23:56.184786",
   "environment_variables": {},
   "exception": null,
   "input_path": "__notebook__.ipynb",
   "output_path": "__notebook__.ipynb",
   "parameters": {},
   "start_time": "2022-06-10T13:18:39.703418",
   "version": "2.3.4"
  }
 },
 "nbformat": 4,
 "nbformat_minor": 5
}
